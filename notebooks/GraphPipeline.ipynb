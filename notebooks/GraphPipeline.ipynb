{
 "cells": [
  {
   "cell_type": "markdown",
   "metadata": {},
   "source": [
    "### GraphPipeline getting started ###\n",
    "This notebook is here to show a few things that can be done by the package.\n",
    "\n",
    "It doesn't means that these are the things you should do on that particular dataset.\n",
    "\n"
   ]
  },
  {
   "cell_type": "markdown",
   "metadata": {},
   "source": [
    "Let's load titanic dataset to test a few things"
   ]
  },
  {
   "cell_type": "code",
   "execution_count": 1,
   "metadata": {},
   "outputs": [],
   "source": [
    "import warnings\n",
    "warnings.filterwarnings('ignore') # to remove gensim warning"
   ]
  },
  {
   "cell_type": "code",
   "execution_count": 2,
   "metadata": {},
   "outputs": [],
   "source": [
    "from aikit.datasets.datasets import load_dataset, DatasetEnum\n",
    "Xtrain, y_train, _ ,_ , _ = load_dataset(DatasetEnum.titanic)"
   ]
  },
  {
   "cell_type": "code",
   "execution_count": 3,
   "metadata": {},
   "outputs": [
    {
     "data": {
      "text/html": [
       "<div>\n",
       "<style scoped>\n",
       "    .dataframe tbody tr th:only-of-type {\n",
       "        vertical-align: middle;\n",
       "    }\n",
       "\n",
       "    .dataframe tbody tr th {\n",
       "        vertical-align: top;\n",
       "    }\n",
       "\n",
       "    .dataframe thead th {\n",
       "        text-align: right;\n",
       "    }\n",
       "</style>\n",
       "<table border=\"1\" class=\"dataframe\">\n",
       "  <thead>\n",
       "    <tr style=\"text-align: right;\">\n",
       "      <th></th>\n",
       "      <th>pclass</th>\n",
       "      <th>name</th>\n",
       "      <th>sex</th>\n",
       "      <th>age</th>\n",
       "      <th>sibsp</th>\n",
       "      <th>parch</th>\n",
       "      <th>ticket</th>\n",
       "      <th>fare</th>\n",
       "      <th>cabin</th>\n",
       "      <th>embarked</th>\n",
       "      <th>boat</th>\n",
       "      <th>body</th>\n",
       "      <th>home_dest</th>\n",
       "    </tr>\n",
       "  </thead>\n",
       "  <tbody>\n",
       "    <tr>\n",
       "      <th>0</th>\n",
       "      <td>1</td>\n",
       "      <td>McCarthy, Mr. Timothy J</td>\n",
       "      <td>male</td>\n",
       "      <td>54.0</td>\n",
       "      <td>0</td>\n",
       "      <td>0</td>\n",
       "      <td>17463</td>\n",
       "      <td>51.8625</td>\n",
       "      <td>E46</td>\n",
       "      <td>S</td>\n",
       "      <td>NaN</td>\n",
       "      <td>175.0</td>\n",
       "      <td>Dorchester, MA</td>\n",
       "    </tr>\n",
       "    <tr>\n",
       "      <th>1</th>\n",
       "      <td>1</td>\n",
       "      <td>Fortune, Mr. Mark</td>\n",
       "      <td>male</td>\n",
       "      <td>64.0</td>\n",
       "      <td>1</td>\n",
       "      <td>4</td>\n",
       "      <td>19950</td>\n",
       "      <td>263.0000</td>\n",
       "      <td>C23 C25 C27</td>\n",
       "      <td>S</td>\n",
       "      <td>NaN</td>\n",
       "      <td>NaN</td>\n",
       "      <td>Winnipeg, MB</td>\n",
       "    </tr>\n",
       "    <tr>\n",
       "      <th>2</th>\n",
       "      <td>1</td>\n",
       "      <td>Sagesser, Mlle. Emma</td>\n",
       "      <td>female</td>\n",
       "      <td>24.0</td>\n",
       "      <td>0</td>\n",
       "      <td>0</td>\n",
       "      <td>PC 17477</td>\n",
       "      <td>69.3000</td>\n",
       "      <td>B35</td>\n",
       "      <td>C</td>\n",
       "      <td>9</td>\n",
       "      <td>NaN</td>\n",
       "      <td>NaN</td>\n",
       "    </tr>\n",
       "    <tr>\n",
       "      <th>3</th>\n",
       "      <td>3</td>\n",
       "      <td>Panula, Master. Urho Abraham</td>\n",
       "      <td>male</td>\n",
       "      <td>2.0</td>\n",
       "      <td>4</td>\n",
       "      <td>1</td>\n",
       "      <td>3101295</td>\n",
       "      <td>39.6875</td>\n",
       "      <td>NaN</td>\n",
       "      <td>S</td>\n",
       "      <td>NaN</td>\n",
       "      <td>NaN</td>\n",
       "      <td>NaN</td>\n",
       "    </tr>\n",
       "    <tr>\n",
       "      <th>4</th>\n",
       "      <td>1</td>\n",
       "      <td>Maioni, Miss. Roberta</td>\n",
       "      <td>female</td>\n",
       "      <td>16.0</td>\n",
       "      <td>0</td>\n",
       "      <td>0</td>\n",
       "      <td>110152</td>\n",
       "      <td>86.5000</td>\n",
       "      <td>B79</td>\n",
       "      <td>S</td>\n",
       "      <td>8</td>\n",
       "      <td>NaN</td>\n",
       "      <td>NaN</td>\n",
       "    </tr>\n",
       "    <tr>\n",
       "      <th>5</th>\n",
       "      <td>3</td>\n",
       "      <td>Waelens, Mr. Achille</td>\n",
       "      <td>male</td>\n",
       "      <td>22.0</td>\n",
       "      <td>0</td>\n",
       "      <td>0</td>\n",
       "      <td>345767</td>\n",
       "      <td>9.0000</td>\n",
       "      <td>NaN</td>\n",
       "      <td>S</td>\n",
       "      <td>NaN</td>\n",
       "      <td>NaN</td>\n",
       "      <td>Antwerp, Belgium / Stanton, OH</td>\n",
       "    </tr>\n",
       "    <tr>\n",
       "      <th>6</th>\n",
       "      <td>3</td>\n",
       "      <td>Reed, Mr. James George</td>\n",
       "      <td>male</td>\n",
       "      <td>NaN</td>\n",
       "      <td>0</td>\n",
       "      <td>0</td>\n",
       "      <td>362316</td>\n",
       "      <td>7.2500</td>\n",
       "      <td>NaN</td>\n",
       "      <td>S</td>\n",
       "      <td>NaN</td>\n",
       "      <td>NaN</td>\n",
       "      <td>NaN</td>\n",
       "    </tr>\n",
       "    <tr>\n",
       "      <th>7</th>\n",
       "      <td>1</td>\n",
       "      <td>Swift, Mrs. Frederick Joel (Margaret Welles Ba...</td>\n",
       "      <td>female</td>\n",
       "      <td>48.0</td>\n",
       "      <td>0</td>\n",
       "      <td>0</td>\n",
       "      <td>17466</td>\n",
       "      <td>25.9292</td>\n",
       "      <td>D17</td>\n",
       "      <td>S</td>\n",
       "      <td>8</td>\n",
       "      <td>NaN</td>\n",
       "      <td>Brooklyn, NY</td>\n",
       "    </tr>\n",
       "    <tr>\n",
       "      <th>8</th>\n",
       "      <td>1</td>\n",
       "      <td>Smith, Mrs. Lucien Philip (Mary Eloise Hughes)</td>\n",
       "      <td>female</td>\n",
       "      <td>18.0</td>\n",
       "      <td>1</td>\n",
       "      <td>0</td>\n",
       "      <td>13695</td>\n",
       "      <td>60.0000</td>\n",
       "      <td>C31</td>\n",
       "      <td>S</td>\n",
       "      <td>6</td>\n",
       "      <td>NaN</td>\n",
       "      <td>Huntington, WV</td>\n",
       "    </tr>\n",
       "    <tr>\n",
       "      <th>9</th>\n",
       "      <td>1</td>\n",
       "      <td>Rowe, Mr. Alfred G</td>\n",
       "      <td>male</td>\n",
       "      <td>33.0</td>\n",
       "      <td>0</td>\n",
       "      <td>0</td>\n",
       "      <td>113790</td>\n",
       "      <td>26.5500</td>\n",
       "      <td>NaN</td>\n",
       "      <td>S</td>\n",
       "      <td>NaN</td>\n",
       "      <td>109.0</td>\n",
       "      <td>London</td>\n",
       "    </tr>\n",
       "    <tr>\n",
       "      <th>10</th>\n",
       "      <td>3</td>\n",
       "      <td>Meo, Mr. Alfonzo</td>\n",
       "      <td>male</td>\n",
       "      <td>55.5</td>\n",
       "      <td>0</td>\n",
       "      <td>0</td>\n",
       "      <td>A.5. 11206</td>\n",
       "      <td>8.0500</td>\n",
       "      <td>NaN</td>\n",
       "      <td>S</td>\n",
       "      <td>NaN</td>\n",
       "      <td>201.0</td>\n",
       "      <td>NaN</td>\n",
       "    </tr>\n",
       "    <tr>\n",
       "      <th>11</th>\n",
       "      <td>3</td>\n",
       "      <td>Abbott, Mr. Rossmore Edward</td>\n",
       "      <td>male</td>\n",
       "      <td>16.0</td>\n",
       "      <td>1</td>\n",
       "      <td>1</td>\n",
       "      <td>C.A. 2673</td>\n",
       "      <td>20.2500</td>\n",
       "      <td>NaN</td>\n",
       "      <td>S</td>\n",
       "      <td>NaN</td>\n",
       "      <td>190.0</td>\n",
       "      <td>East Providence, RI</td>\n",
       "    </tr>\n",
       "    <tr>\n",
       "      <th>12</th>\n",
       "      <td>3</td>\n",
       "      <td>Elias, Mr. Dibo</td>\n",
       "      <td>male</td>\n",
       "      <td>NaN</td>\n",
       "      <td>0</td>\n",
       "      <td>0</td>\n",
       "      <td>2674</td>\n",
       "      <td>7.2250</td>\n",
       "      <td>NaN</td>\n",
       "      <td>C</td>\n",
       "      <td>NaN</td>\n",
       "      <td>NaN</td>\n",
       "      <td>NaN</td>\n",
       "    </tr>\n",
       "    <tr>\n",
       "      <th>13</th>\n",
       "      <td>2</td>\n",
       "      <td>Reynaldo, Ms. Encarnacion</td>\n",
       "      <td>female</td>\n",
       "      <td>28.0</td>\n",
       "      <td>0</td>\n",
       "      <td>0</td>\n",
       "      <td>230434</td>\n",
       "      <td>13.0000</td>\n",
       "      <td>NaN</td>\n",
       "      <td>S</td>\n",
       "      <td>9</td>\n",
       "      <td>NaN</td>\n",
       "      <td>Spain</td>\n",
       "    </tr>\n",
       "    <tr>\n",
       "      <th>14</th>\n",
       "      <td>3</td>\n",
       "      <td>Khalil, Mr. Betros</td>\n",
       "      <td>male</td>\n",
       "      <td>NaN</td>\n",
       "      <td>1</td>\n",
       "      <td>0</td>\n",
       "      <td>2660</td>\n",
       "      <td>14.4542</td>\n",
       "      <td>NaN</td>\n",
       "      <td>C</td>\n",
       "      <td>NaN</td>\n",
       "      <td>NaN</td>\n",
       "      <td>NaN</td>\n",
       "    </tr>\n",
       "    <tr>\n",
       "      <th>15</th>\n",
       "      <td>1</td>\n",
       "      <td>Daniels, Miss. Sarah</td>\n",
       "      <td>female</td>\n",
       "      <td>33.0</td>\n",
       "      <td>0</td>\n",
       "      <td>0</td>\n",
       "      <td>113781</td>\n",
       "      <td>151.5500</td>\n",
       "      <td>NaN</td>\n",
       "      <td>S</td>\n",
       "      <td>8</td>\n",
       "      <td>NaN</td>\n",
       "      <td>NaN</td>\n",
       "    </tr>\n",
       "    <tr>\n",
       "      <th>16</th>\n",
       "      <td>3</td>\n",
       "      <td>Ford, Miss. Robina Maggie 'Ruby'</td>\n",
       "      <td>female</td>\n",
       "      <td>9.0</td>\n",
       "      <td>2</td>\n",
       "      <td>2</td>\n",
       "      <td>W./C. 6608</td>\n",
       "      <td>34.3750</td>\n",
       "      <td>NaN</td>\n",
       "      <td>S</td>\n",
       "      <td>NaN</td>\n",
       "      <td>NaN</td>\n",
       "      <td>Rotherfield, Sussex, England Essex Co, MA</td>\n",
       "    </tr>\n",
       "    <tr>\n",
       "      <th>17</th>\n",
       "      <td>3</td>\n",
       "      <td>Thorneycroft, Mrs. Percival (Florence Kate White)</td>\n",
       "      <td>female</td>\n",
       "      <td>NaN</td>\n",
       "      <td>1</td>\n",
       "      <td>0</td>\n",
       "      <td>376564</td>\n",
       "      <td>16.1000</td>\n",
       "      <td>NaN</td>\n",
       "      <td>S</td>\n",
       "      <td>10</td>\n",
       "      <td>NaN</td>\n",
       "      <td>NaN</td>\n",
       "    </tr>\n",
       "    <tr>\n",
       "      <th>18</th>\n",
       "      <td>3</td>\n",
       "      <td>Lennon, Mr. Denis</td>\n",
       "      <td>male</td>\n",
       "      <td>NaN</td>\n",
       "      <td>1</td>\n",
       "      <td>0</td>\n",
       "      <td>370371</td>\n",
       "      <td>15.5000</td>\n",
       "      <td>NaN</td>\n",
       "      <td>Q</td>\n",
       "      <td>NaN</td>\n",
       "      <td>NaN</td>\n",
       "      <td>NaN</td>\n",
       "    </tr>\n",
       "    <tr>\n",
       "      <th>19</th>\n",
       "      <td>3</td>\n",
       "      <td>de Pelsmaeker, Mr. Alfons</td>\n",
       "      <td>male</td>\n",
       "      <td>16.0</td>\n",
       "      <td>0</td>\n",
       "      <td>0</td>\n",
       "      <td>345778</td>\n",
       "      <td>9.5000</td>\n",
       "      <td>NaN</td>\n",
       "      <td>S</td>\n",
       "      <td>NaN</td>\n",
       "      <td>NaN</td>\n",
       "      <td>NaN</td>\n",
       "    </tr>\n",
       "  </tbody>\n",
       "</table>\n",
       "</div>"
      ],
      "text/plain": [
       "    pclass                                               name     sex   age  \\\n",
       "0        1                            McCarthy, Mr. Timothy J    male  54.0   \n",
       "1        1                                  Fortune, Mr. Mark    male  64.0   \n",
       "2        1                               Sagesser, Mlle. Emma  female  24.0   \n",
       "3        3                       Panula, Master. Urho Abraham    male   2.0   \n",
       "4        1                              Maioni, Miss. Roberta  female  16.0   \n",
       "5        3                               Waelens, Mr. Achille    male  22.0   \n",
       "6        3                             Reed, Mr. James George    male   NaN   \n",
       "7        1  Swift, Mrs. Frederick Joel (Margaret Welles Ba...  female  48.0   \n",
       "8        1     Smith, Mrs. Lucien Philip (Mary Eloise Hughes)  female  18.0   \n",
       "9        1                                 Rowe, Mr. Alfred G    male  33.0   \n",
       "10       3                                   Meo, Mr. Alfonzo    male  55.5   \n",
       "11       3                        Abbott, Mr. Rossmore Edward    male  16.0   \n",
       "12       3                                    Elias, Mr. Dibo    male   NaN   \n",
       "13       2                          Reynaldo, Ms. Encarnacion  female  28.0   \n",
       "14       3                                 Khalil, Mr. Betros    male   NaN   \n",
       "15       1                               Daniels, Miss. Sarah  female  33.0   \n",
       "16       3                   Ford, Miss. Robina Maggie 'Ruby'  female   9.0   \n",
       "17       3  Thorneycroft, Mrs. Percival (Florence Kate White)  female   NaN   \n",
       "18       3                                  Lennon, Mr. Denis    male   NaN   \n",
       "19       3                          de Pelsmaeker, Mr. Alfons    male  16.0   \n",
       "\n",
       "    sibsp  parch      ticket      fare        cabin embarked boat   body  \\\n",
       "0       0      0       17463   51.8625          E46        S  NaN  175.0   \n",
       "1       1      4       19950  263.0000  C23 C25 C27        S  NaN    NaN   \n",
       "2       0      0    PC 17477   69.3000          B35        C    9    NaN   \n",
       "3       4      1     3101295   39.6875          NaN        S  NaN    NaN   \n",
       "4       0      0      110152   86.5000          B79        S    8    NaN   \n",
       "5       0      0      345767    9.0000          NaN        S  NaN    NaN   \n",
       "6       0      0      362316    7.2500          NaN        S  NaN    NaN   \n",
       "7       0      0       17466   25.9292          D17        S    8    NaN   \n",
       "8       1      0       13695   60.0000          C31        S    6    NaN   \n",
       "9       0      0      113790   26.5500          NaN        S  NaN  109.0   \n",
       "10      0      0  A.5. 11206    8.0500          NaN        S  NaN  201.0   \n",
       "11      1      1   C.A. 2673   20.2500          NaN        S  NaN  190.0   \n",
       "12      0      0        2674    7.2250          NaN        C  NaN    NaN   \n",
       "13      0      0      230434   13.0000          NaN        S    9    NaN   \n",
       "14      1      0        2660   14.4542          NaN        C  NaN    NaN   \n",
       "15      0      0      113781  151.5500          NaN        S    8    NaN   \n",
       "16      2      2  W./C. 6608   34.3750          NaN        S  NaN    NaN   \n",
       "17      1      0      376564   16.1000          NaN        S   10    NaN   \n",
       "18      1      0      370371   15.5000          NaN        Q  NaN    NaN   \n",
       "19      0      0      345778    9.5000          NaN        S  NaN    NaN   \n",
       "\n",
       "                                    home_dest  \n",
       "0                              Dorchester, MA  \n",
       "1                                Winnipeg, MB  \n",
       "2                                         NaN  \n",
       "3                                         NaN  \n",
       "4                                         NaN  \n",
       "5              Antwerp, Belgium / Stanton, OH  \n",
       "6                                         NaN  \n",
       "7                                Brooklyn, NY  \n",
       "8                              Huntington, WV  \n",
       "9                                      London  \n",
       "10                                        NaN  \n",
       "11                        East Providence, RI  \n",
       "12                                        NaN  \n",
       "13                                      Spain  \n",
       "14                                        NaN  \n",
       "15                                        NaN  \n",
       "16  Rotherfield, Sussex, England Essex Co, MA  \n",
       "17                                        NaN  \n",
       "18                                        NaN  \n",
       "19                                        NaN  "
      ]
     },
     "execution_count": 3,
     "metadata": {},
     "output_type": "execute_result"
    }
   ],
   "source": [
    "Xtrain.head(20)"
   ]
  },
  {
   "cell_type": "code",
   "execution_count": 4,
   "metadata": {},
   "outputs": [
    {
     "data": {
      "text/plain": [
       "array([0, 0, 1, 0, 1, 0, 0, 1, 1, 0, 0, 0, 0, 1, 0, 1, 0, 1, 0, 0])"
      ]
     },
     "execution_count": 4,
     "metadata": {},
     "output_type": "execute_result"
    }
   ],
   "source": [
    "y_train[0:20]"
   ]
  },
  {
   "cell_type": "markdown",
   "metadata": {},
   "source": [
    "For now let's ignore the Name and Ticket column which should probably be handled as text"
   ]
  },
  {
   "cell_type": "code",
   "execution_count": 5,
   "metadata": {},
   "outputs": [
    {
     "name": "stdout",
     "output_type": "stream",
     "text": [
      "I wont be able to import category_encoders\n",
      "Matplotlib won't work\n"
     ]
    }
   ],
   "source": [
    "import pandas as pd\n",
    "from aikit.transformers import TruncatedSVDWrapper, NumImputer, CountVectorizerWrapper, NumericalEncoder\n",
    "from aikit.pipeline import GraphPipeline\n",
    "from sklearn.ensemble import RandomForestClassifier\n",
    "from sklearn.linear_model import LogisticRegression"
   ]
  },
  {
   "cell_type": "code",
   "execution_count": 6,
   "metadata": {},
   "outputs": [
    {
     "data": {
      "text/plain": [
       "['pclass',\n",
       " 'sex',\n",
       " 'age',\n",
       " 'sibsp',\n",
       " 'parch',\n",
       " 'fare',\n",
       " 'cabin',\n",
       " 'embarked',\n",
       " 'boat',\n",
       " 'body',\n",
       " 'home_dest']"
      ]
     },
     "execution_count": 6,
     "metadata": {},
     "output_type": "execute_result"
    }
   ],
   "source": [
    "non_text_cols = [c for c in Xtrain.columns if c not in (\"ticket\",\"name\")] # everything that is not text\n",
    "non_text_cols"
   ]
  },
  {
   "cell_type": "code",
   "execution_count": 7,
   "metadata": {},
   "outputs": [
    {
     "data": {
      "image/svg+xml": [
       "<?xml version=\"1.0\" encoding=\"UTF-8\" standalone=\"no\"?>\n",
       "<!DOCTYPE svg PUBLIC \"-//W3C//DTD SVG 1.1//EN\"\n",
       " \"http://www.w3.org/Graphics/SVG/1.1/DTD/svg11.dtd\">\n",
       "<!-- Generated by graphviz version 2.40.1 (20161225.0304)\n",
       " -->\n",
       "<!-- Title: %3 Pages: 1 -->\n",
       "<svg width=\"68pt\" height=\"188pt\"\n",
       " viewBox=\"0.00 0.00 68.48 188.00\" xmlns=\"http://www.w3.org/2000/svg\" xmlns:xlink=\"http://www.w3.org/1999/xlink\">\n",
       "<g id=\"graph0\" class=\"graph\" transform=\"scale(1 1) rotate(0) translate(4 184)\">\n",
       "<title>%3</title>\n",
       "<polygon fill=\"#ffffff\" stroke=\"transparent\" points=\"-4,4 -4,-184 64.4842,-184 64.4842,4 -4,4\"/>\n",
       "<!-- imp -->\n",
       "<g id=\"node1\" class=\"node\">\n",
       "<title>imp</title>\n",
       "<ellipse fill=\"#add8e6\" stroke=\"#add8e6\" cx=\"30.2421\" cy=\"-90\" rx=\"27\" ry=\"18\"/>\n",
       "<text text-anchor=\"middle\" x=\"30.2421\" y=\"-85.8\" font-family=\"Times,serif\" font-size=\"14.00\" fill=\"#000000\">imp</text>\n",
       "</g>\n",
       "<!-- forest -->\n",
       "<g id=\"node2\" class=\"node\">\n",
       "<title>forest</title>\n",
       "<ellipse fill=\"#add8e6\" stroke=\"#add8e6\" cx=\"30.2421\" cy=\"-18\" rx=\"30.4862\" ry=\"18\"/>\n",
       "<text text-anchor=\"middle\" x=\"30.2421\" y=\"-13.8\" font-family=\"Times,serif\" font-size=\"14.00\" fill=\"#000000\">forest</text>\n",
       "</g>\n",
       "<!-- imp&#45;&gt;forest -->\n",
       "<g id=\"edge1\" class=\"edge\">\n",
       "<title>imp&#45;&gt;forest</title>\n",
       "<path fill=\"none\" stroke=\"#000000\" d=\"M30.2421,-71.8314C30.2421,-64.131 30.2421,-54.9743 30.2421,-46.4166\"/>\n",
       "<polygon fill=\"#000000\" stroke=\"#000000\" points=\"33.7422,-46.4132 30.2421,-36.4133 26.7422,-46.4133 33.7422,-46.4132\"/>\n",
       "</g>\n",
       "<!-- enc -->\n",
       "<g id=\"node3\" class=\"node\">\n",
       "<title>enc</title>\n",
       "<ellipse fill=\"#add8e6\" stroke=\"#add8e6\" cx=\"30.2421\" cy=\"-162\" rx=\"27\" ry=\"18\"/>\n",
       "<text text-anchor=\"middle\" x=\"30.2421\" y=\"-157.8\" font-family=\"Times,serif\" font-size=\"14.00\" fill=\"#000000\">enc</text>\n",
       "</g>\n",
       "<!-- enc&#45;&gt;imp -->\n",
       "<g id=\"edge2\" class=\"edge\">\n",
       "<title>enc&#45;&gt;imp</title>\n",
       "<path fill=\"none\" stroke=\"#000000\" d=\"M30.2421,-143.8314C30.2421,-136.131 30.2421,-126.9743 30.2421,-118.4166\"/>\n",
       "<polygon fill=\"#000000\" stroke=\"#000000\" points=\"33.7422,-118.4132 30.2421,-108.4133 26.7422,-118.4133 33.7422,-118.4132\"/>\n",
       "</g>\n",
       "</g>\n",
       "</svg>\n"
      ],
      "text/plain": [
       "<graphviz.dot.Digraph at 0x130049400>"
      ]
     },
     "execution_count": 7,
     "metadata": {},
     "output_type": "execute_result"
    }
   ],
   "source": [
    "gpipeline = GraphPipeline(models = { \"enc\":NumericalEncoder(),\n",
    "                                     \"imp\":NumImputer(),\n",
    "                                     \"forest\":RandomForestClassifier(n_estimators=100)\n",
    "                                   },\n",
    "                          edges = [(\"enc\",\"imp\",\"forest\")])\n",
    "\n",
    "gpipeline.fit(Xtrain.loc[:,non_text_cols],y_train)\n",
    "gpipeline.graphviz"
   ]
  },
  {
   "cell_type": "markdown",
   "metadata": {},
   "source": [
    "##### Let's do a cross-validation"
   ]
  },
  {
   "cell_type": "code",
   "execution_count": 8,
   "metadata": {},
   "outputs": [
    {
     "name": "stdout",
     "output_type": "stream",
     "text": [
      "cv 0 started\n",
      "\n",
      "cv 1 started\n",
      "\n",
      "cv 2 started\n",
      "\n",
      "cv 3 started\n",
      "\n",
      "cv 4 started\n",
      "\n",
      "cv 5 started\n",
      "\n",
      "cv 6 started\n",
      "\n",
      "cv 7 started\n",
      "\n",
      "cv 8 started\n",
      "\n",
      "cv 9 started\n",
      "\n"
     ]
    },
    {
     "data": {
      "text/html": [
       "<div>\n",
       "<style scoped>\n",
       "    .dataframe tbody tr th:only-of-type {\n",
       "        vertical-align: middle;\n",
       "    }\n",
       "\n",
       "    .dataframe tbody tr th {\n",
       "        vertical-align: top;\n",
       "    }\n",
       "\n",
       "    .dataframe thead th {\n",
       "        text-align: right;\n",
       "    }\n",
       "</style>\n",
       "<table border=\"1\" class=\"dataframe\">\n",
       "  <thead>\n",
       "    <tr style=\"text-align: right;\">\n",
       "      <th></th>\n",
       "      <th>test_roc_auc</th>\n",
       "      <th>test_accuracy</th>\n",
       "      <th>test_neg_log_loss</th>\n",
       "      <th>train_roc_auc</th>\n",
       "      <th>train_accuracy</th>\n",
       "      <th>train_neg_log_loss</th>\n",
       "      <th>fit_time</th>\n",
       "      <th>score_time</th>\n",
       "      <th>n_test_samples</th>\n",
       "      <th>fold_nb</th>\n",
       "    </tr>\n",
       "  </thead>\n",
       "  <tbody>\n",
       "    <tr>\n",
       "      <th>0</th>\n",
       "      <td>0.997713</td>\n",
       "      <td>0.990476</td>\n",
       "      <td>-0.052931</td>\n",
       "      <td>0.999835</td>\n",
       "      <td>0.995758</td>\n",
       "      <td>-0.030197</td>\n",
       "      <td>0.168860</td>\n",
       "      <td>0.057120</td>\n",
       "      <td>105</td>\n",
       "      <td>0</td>\n",
       "    </tr>\n",
       "    <tr>\n",
       "      <th>1</th>\n",
       "      <td>0.967416</td>\n",
       "      <td>0.952381</td>\n",
       "      <td>-0.723573</td>\n",
       "      <td>0.999986</td>\n",
       "      <td>0.997879</td>\n",
       "      <td>-0.022999</td>\n",
       "      <td>0.112918</td>\n",
       "      <td>0.050812</td>\n",
       "      <td>105</td>\n",
       "      <td>1</td>\n",
       "    </tr>\n",
       "    <tr>\n",
       "      <th>2</th>\n",
       "      <td>0.985518</td>\n",
       "      <td>0.952381</td>\n",
       "      <td>-0.150190</td>\n",
       "      <td>0.999816</td>\n",
       "      <td>0.995758</td>\n",
       "      <td>-0.027503</td>\n",
       "      <td>0.115226</td>\n",
       "      <td>0.051023</td>\n",
       "      <td>105</td>\n",
       "      <td>2</td>\n",
       "    </tr>\n",
       "    <tr>\n",
       "      <th>3</th>\n",
       "      <td>1.000000</td>\n",
       "      <td>1.000000</td>\n",
       "      <td>-0.033902</td>\n",
       "      <td>0.999821</td>\n",
       "      <td>0.995758</td>\n",
       "      <td>-0.029219</td>\n",
       "      <td>0.115959</td>\n",
       "      <td>0.078289</td>\n",
       "      <td>105</td>\n",
       "      <td>3</td>\n",
       "    </tr>\n",
       "    <tr>\n",
       "      <th>4</th>\n",
       "      <td>0.995808</td>\n",
       "      <td>0.961905</td>\n",
       "      <td>-0.084414</td>\n",
       "      <td>0.999802</td>\n",
       "      <td>0.995758</td>\n",
       "      <td>-0.026391</td>\n",
       "      <td>0.178423</td>\n",
       "      <td>0.086631</td>\n",
       "      <td>105</td>\n",
       "      <td>4</td>\n",
       "    </tr>\n",
       "    <tr>\n",
       "      <th>5</th>\n",
       "      <td>0.993521</td>\n",
       "      <td>0.952381</td>\n",
       "      <td>-0.112725</td>\n",
       "      <td>0.999769</td>\n",
       "      <td>0.997879</td>\n",
       "      <td>-0.025432</td>\n",
       "      <td>0.109806</td>\n",
       "      <td>0.050660</td>\n",
       "      <td>105</td>\n",
       "      <td>5</td>\n",
       "    </tr>\n",
       "    <tr>\n",
       "      <th>6</th>\n",
       "      <td>1.000000</td>\n",
       "      <td>0.990476</td>\n",
       "      <td>-0.042530</td>\n",
       "      <td>0.999707</td>\n",
       "      <td>0.995758</td>\n",
       "      <td>-0.031124</td>\n",
       "      <td>0.176480</td>\n",
       "      <td>0.055208</td>\n",
       "      <td>105</td>\n",
       "      <td>6</td>\n",
       "    </tr>\n",
       "    <tr>\n",
       "      <th>7</th>\n",
       "      <td>0.995808</td>\n",
       "      <td>0.980952</td>\n",
       "      <td>-0.091637</td>\n",
       "      <td>0.999814</td>\n",
       "      <td>0.996819</td>\n",
       "      <td>-0.025740</td>\n",
       "      <td>0.120470</td>\n",
       "      <td>0.054042</td>\n",
       "      <td>105</td>\n",
       "      <td>7</td>\n",
       "    </tr>\n",
       "    <tr>\n",
       "      <th>8</th>\n",
       "      <td>0.993031</td>\n",
       "      <td>0.971154</td>\n",
       "      <td>-0.103502</td>\n",
       "      <td>0.999807</td>\n",
       "      <td>0.995763</td>\n",
       "      <td>-0.027354</td>\n",
       "      <td>0.124299</td>\n",
       "      <td>0.056380</td>\n",
       "      <td>104</td>\n",
       "      <td>8</td>\n",
       "    </tr>\n",
       "    <tr>\n",
       "      <th>9</th>\n",
       "      <td>0.999226</td>\n",
       "      <td>0.980769</td>\n",
       "      <td>-0.065747</td>\n",
       "      <td>0.999793</td>\n",
       "      <td>0.995763</td>\n",
       "      <td>-0.028550</td>\n",
       "      <td>0.114739</td>\n",
       "      <td>0.049358</td>\n",
       "      <td>104</td>\n",
       "      <td>9</td>\n",
       "    </tr>\n",
       "  </tbody>\n",
       "</table>\n",
       "</div>"
      ],
      "text/plain": [
       "   test_roc_auc  test_accuracy  test_neg_log_loss  train_roc_auc  \\\n",
       "0      0.997713       0.990476          -0.052931       0.999835   \n",
       "1      0.967416       0.952381          -0.723573       0.999986   \n",
       "2      0.985518       0.952381          -0.150190       0.999816   \n",
       "3      1.000000       1.000000          -0.033902       0.999821   \n",
       "4      0.995808       0.961905          -0.084414       0.999802   \n",
       "5      0.993521       0.952381          -0.112725       0.999769   \n",
       "6      1.000000       0.990476          -0.042530       0.999707   \n",
       "7      0.995808       0.980952          -0.091637       0.999814   \n",
       "8      0.993031       0.971154          -0.103502       0.999807   \n",
       "9      0.999226       0.980769          -0.065747       0.999793   \n",
       "\n",
       "   train_accuracy  train_neg_log_loss  fit_time  score_time  n_test_samples  \\\n",
       "0        0.995758           -0.030197  0.168860    0.057120             105   \n",
       "1        0.997879           -0.022999  0.112918    0.050812             105   \n",
       "2        0.995758           -0.027503  0.115226    0.051023             105   \n",
       "3        0.995758           -0.029219  0.115959    0.078289             105   \n",
       "4        0.995758           -0.026391  0.178423    0.086631             105   \n",
       "5        0.997879           -0.025432  0.109806    0.050660             105   \n",
       "6        0.995758           -0.031124  0.176480    0.055208             105   \n",
       "7        0.996819           -0.025740  0.120470    0.054042             105   \n",
       "8        0.995763           -0.027354  0.124299    0.056380             104   \n",
       "9        0.995763           -0.028550  0.114739    0.049358             104   \n",
       "\n",
       "   fold_nb  \n",
       "0        0  \n",
       "1        1  \n",
       "2        2  \n",
       "3        3  \n",
       "4        4  \n",
       "5        5  \n",
       "6        6  \n",
       "7        7  \n",
       "8        8  \n",
       "9        9  "
      ]
     },
     "execution_count": 8,
     "metadata": {},
     "output_type": "execute_result"
    }
   ],
   "source": [
    "from aikit.cross_validation import cross_validation\n",
    "cv_result = cross_validation(gpipeline, Xtrain.loc[:,non_text_cols], y_train,cv = 10,\n",
    "                             scoring=[\"roc_auc\",\"accuracy\",\"neg_log_loss\"])\n",
    "cv_result"
   ]
  },
  {
   "cell_type": "markdown",
   "metadata": {},
   "source": [
    "This cross-validate the complete Pipeline. The difference with sklearn function is that :\n",
    "* you can score more than one metric at a time\n",
    "* you retrieve train and test score"
   ]
  },
  {
   "cell_type": "code",
   "execution_count": 9,
   "metadata": {},
   "outputs": [
    {
     "data": {
      "text/plain": [
       "test_roc_auc         0.992804\n",
       "test_accuracy        0.973288\n",
       "test_neg_log_loss   -0.146115\n",
       "dtype: float64"
      ]
     },
     "execution_count": 9,
     "metadata": {},
     "output_type": "execute_result"
    }
   ],
   "source": [
    "cv_result.loc[:,(\"test_roc_auc\",\"test_accuracy\",\"test_neg_log_loss\")].mean()"
   ]
  },
  {
   "cell_type": "markdown",
   "metadata": {},
   "source": [
    "We can do the same but selecting the columns directly in the pipeline :"
   ]
  },
  {
   "cell_type": "code",
   "execution_count": 10,
   "metadata": {},
   "outputs": [
    {
     "data": {
      "image/svg+xml": [
       "<?xml version=\"1.0\" encoding=\"UTF-8\" standalone=\"no\"?>\n",
       "<!DOCTYPE svg PUBLIC \"-//W3C//DTD SVG 1.1//EN\"\n",
       " \"http://www.w3.org/Graphics/SVG/1.1/DTD/svg11.dtd\">\n",
       "<!-- Generated by graphviz version 2.40.1 (20161225.0304)\n",
       " -->\n",
       "<!-- Title: %3 Pages: 1 -->\n",
       "<svg width=\"68pt\" height=\"188pt\"\n",
       " viewBox=\"0.00 0.00 68.48 188.00\" xmlns=\"http://www.w3.org/2000/svg\" xmlns:xlink=\"http://www.w3.org/1999/xlink\">\n",
       "<g id=\"graph0\" class=\"graph\" transform=\"scale(1 1) rotate(0) translate(4 184)\">\n",
       "<title>%3</title>\n",
       "<polygon fill=\"#ffffff\" stroke=\"transparent\" points=\"-4,4 -4,-184 64.4842,-184 64.4842,4 -4,4\"/>\n",
       "<!-- imp -->\n",
       "<g id=\"node1\" class=\"node\">\n",
       "<title>imp</title>\n",
       "<ellipse fill=\"#add8e6\" stroke=\"#add8e6\" cx=\"30.2421\" cy=\"-90\" rx=\"27\" ry=\"18\"/>\n",
       "<text text-anchor=\"middle\" x=\"30.2421\" y=\"-85.8\" font-family=\"Times,serif\" font-size=\"14.00\" fill=\"#000000\">imp</text>\n",
       "</g>\n",
       "<!-- forest -->\n",
       "<g id=\"node2\" class=\"node\">\n",
       "<title>forest</title>\n",
       "<ellipse fill=\"#add8e6\" stroke=\"#add8e6\" cx=\"30.2421\" cy=\"-18\" rx=\"30.4862\" ry=\"18\"/>\n",
       "<text text-anchor=\"middle\" x=\"30.2421\" y=\"-13.8\" font-family=\"Times,serif\" font-size=\"14.00\" fill=\"#000000\">forest</text>\n",
       "</g>\n",
       "<!-- imp&#45;&gt;forest -->\n",
       "<g id=\"edge1\" class=\"edge\">\n",
       "<title>imp&#45;&gt;forest</title>\n",
       "<path fill=\"none\" stroke=\"#000000\" d=\"M30.2421,-71.8314C30.2421,-64.131 30.2421,-54.9743 30.2421,-46.4166\"/>\n",
       "<polygon fill=\"#000000\" stroke=\"#000000\" points=\"33.7422,-46.4132 30.2421,-36.4133 26.7422,-46.4133 33.7422,-46.4132\"/>\n",
       "</g>\n",
       "<!-- enc -->\n",
       "<g id=\"node3\" class=\"node\">\n",
       "<title>enc</title>\n",
       "<ellipse fill=\"#add8e6\" stroke=\"#add8e6\" cx=\"30.2421\" cy=\"-162\" rx=\"27\" ry=\"18\"/>\n",
       "<text text-anchor=\"middle\" x=\"30.2421\" y=\"-157.8\" font-family=\"Times,serif\" font-size=\"14.00\" fill=\"#000000\">enc</text>\n",
       "</g>\n",
       "<!-- enc&#45;&gt;imp -->\n",
       "<g id=\"edge2\" class=\"edge\">\n",
       "<title>enc&#45;&gt;imp</title>\n",
       "<path fill=\"none\" stroke=\"#000000\" d=\"M30.2421,-143.8314C30.2421,-136.131 30.2421,-126.9743 30.2421,-118.4166\"/>\n",
       "<polygon fill=\"#000000\" stroke=\"#000000\" points=\"33.7422,-118.4132 30.2421,-108.4133 26.7422,-118.4133 33.7422,-118.4132\"/>\n",
       "</g>\n",
       "</g>\n",
       "</svg>\n"
      ],
      "text/plain": [
       "<graphviz.dot.Digraph at 0x1300fe160>"
      ]
     },
     "execution_count": 10,
     "metadata": {},
     "output_type": "execute_result"
    }
   ],
   "source": [
    "gpipeline2 = GraphPipeline(models = { \"enc\":NumericalEncoder(columns_to_use=non_text_cols),\n",
    "                                      \"imp\":NumImputer(),\n",
    "                                      \"forest\":RandomForestClassifier(n_estimators=100)\n",
    "                                    },\n",
    "                         edges = [(\"enc\",\"imp\",\"forest\")])\n",
    "\n",
    "gpipeline2.fit(Xtrain,y_train)\n",
    "gpipeline2.graphviz"
   ]
  },
  {
   "cell_type": "code",
   "execution_count": 11,
   "metadata": {},
   "outputs": [
    {
     "name": "stdout",
     "output_type": "stream",
     "text": [
      "cv 0 started\n",
      "\n",
      "cv 1 started\n",
      "\n",
      "cv 2 started\n",
      "\n",
      "cv 3 started\n",
      "\n",
      "cv 4 started\n",
      "\n",
      "cv 5 started\n",
      "\n",
      "cv 6 started\n",
      "\n",
      "cv 7 started\n",
      "\n",
      "cv 8 started\n",
      "\n",
      "cv 9 started\n",
      "\n"
     ]
    },
    {
     "data": {
      "text/plain": [
       "test_roc_auc         0.992459\n",
       "test_accuracy        0.972335\n",
       "test_neg_log_loss   -0.147184\n",
       "dtype: float64"
      ]
     },
     "execution_count": 11,
     "metadata": {},
     "output_type": "execute_result"
    }
   ],
   "source": [
    "cv_result = cross_validation(gpipeline2,Xtrain,y_train,cv = 10,scoring=[\"roc_auc\",\"accuracy\",\"neg_log_loss\"])\n",
    "cv_result.loc[:,(\"test_roc_auc\",\"test_accuracy\",\"test_neg_log_loss\")].mean()"
   ]
  },
  {
   "cell_type": "markdown",
   "metadata": {},
   "source": [
    "Now let's see what we can do with the columns we excluded. We could craft features from them, but let's try to use them as text directly."
   ]
  },
  {
   "cell_type": "code",
   "execution_count": 12,
   "metadata": {},
   "outputs": [
    {
     "data": {
      "text/plain": [
       "CountVectorizerWrapper(analyzer='word', column_prefix='BAG',\n",
       "                       columns_to_use=['ticket', 'name'],\n",
       "                       desired_output_type='SparseArray',\n",
       "                       keep_other_columns='drop', max_df=1.0, max_features=None,\n",
       "                       min_df=1, ngram_range=1, regex_match=False, tfidf=False,\n",
       "                       vocabulary=None)"
      ]
     },
     "execution_count": 12,
     "metadata": {},
     "output_type": "execute_result"
    }
   ],
   "source": [
    "text_cols = [\"ticket\",\"name\"]\n",
    "vect = CountVectorizerWrapper(analyzer=\"word\", columns_to_use=text_cols)\n",
    "vect.fit(Xtrain,y_train)"
   ]
  },
  {
   "cell_type": "code",
   "execution_count": 13,
   "metadata": {},
   "outputs": [
    {
     "data": {
      "text/plain": [
       "['ticket__BAG__10482',\n",
       " 'ticket__BAG__110152',\n",
       " 'ticket__BAG__110413',\n",
       " 'ticket__BAG__110465',\n",
       " 'ticket__BAG__110469',\n",
       " 'ticket__BAG__110489',\n",
       " 'ticket__BAG__110564',\n",
       " 'ticket__BAG__110813',\n",
       " 'ticket__BAG__111163',\n",
       " 'ticket__BAG__111240',\n",
       " 'ticket__BAG__111320',\n",
       " 'ticket__BAG__111361',\n",
       " 'ticket__BAG__111369',\n",
       " 'ticket__BAG__111426',\n",
       " 'ticket__BAG__111427',\n",
       " 'ticket__BAG__112050',\n",
       " 'ticket__BAG__112052',\n",
       " 'ticket__BAG__112053',\n",
       " 'ticket__BAG__112058',\n",
       " 'ticket__BAG__11206',\n",
       " '...',\n",
       " 'name__BAG__woolf',\n",
       " 'name__BAG__woolner',\n",
       " 'name__BAG__worth',\n",
       " 'name__BAG__wright',\n",
       " 'name__BAG__wyckoff',\n",
       " 'name__BAG__yarred',\n",
       " 'name__BAG__yasbeck',\n",
       " 'name__BAG__ylio',\n",
       " 'name__BAG__yoto',\n",
       " 'name__BAG__young',\n",
       " 'name__BAG__youseff',\n",
       " 'name__BAG__yousif',\n",
       " 'name__BAG__youssef',\n",
       " 'name__BAG__yousseff',\n",
       " 'name__BAG__yrois',\n",
       " 'name__BAG__zabour',\n",
       " 'name__BAG__zakarian',\n",
       " 'name__BAG__zebley',\n",
       " 'name__BAG__zenni',\n",
       " 'name__BAG__zillah']"
      ]
     },
     "execution_count": 13,
     "metadata": {},
     "output_type": "execute_result"
    }
   ],
   "source": [
    "features = vect.get_feature_names()\n",
    "features[0:20] + [\"...\"] + features[-20:]"
   ]
  },
  {
   "cell_type": "markdown",
   "metadata": {},
   "source": [
    "The encoder directly encodes the 2 features"
   ]
  },
  {
   "cell_type": "code",
   "execution_count": 14,
   "metadata": {},
   "outputs": [
    {
     "data": {
      "text/plain": [
       "<1048x2440 sparse matrix of type '<class 'numpy.int64'>'\n",
       "\twith 5414 stored elements in COOrdinate format>"
      ]
     },
     "execution_count": 14,
     "metadata": {},
     "output_type": "execute_result"
    }
   ],
   "source": [
    "xx_res = vect.transform(Xtrain)\n",
    "xx_res"
   ]
  },
  {
   "cell_type": "markdown",
   "metadata": {},
   "source": [
    "Again let's create a GraphPipeline to cross-validate"
   ]
  },
  {
   "cell_type": "code",
   "execution_count": 15,
   "metadata": {},
   "outputs": [
    {
     "data": {
      "image/svg+xml": [
       "<?xml version=\"1.0\" encoding=\"UTF-8\" standalone=\"no\"?>\n",
       "<!DOCTYPE svg PUBLIC \"-//W3C//DTD SVG 1.1//EN\"\n",
       " \"http://www.w3.org/Graphics/SVG/1.1/DTD/svg11.dtd\">\n",
       "<!-- Generated by graphviz version 2.40.1 (20161225.0304)\n",
       " -->\n",
       "<!-- Title: %3 Pages: 1 -->\n",
       "<svg width=\"62pt\" height=\"116pt\"\n",
       " viewBox=\"0.00 0.00 62.00 116.00\" xmlns=\"http://www.w3.org/2000/svg\" xmlns:xlink=\"http://www.w3.org/1999/xlink\">\n",
       "<g id=\"graph0\" class=\"graph\" transform=\"scale(1 1) rotate(0) translate(4 112)\">\n",
       "<title>%3</title>\n",
       "<polygon fill=\"#ffffff\" stroke=\"transparent\" points=\"-4,4 -4,-112 58,-112 58,4 -4,4\"/>\n",
       "<!-- vect -->\n",
       "<g id=\"node1\" class=\"node\">\n",
       "<title>vect</title>\n",
       "<ellipse fill=\"#add8e6\" stroke=\"#add8e6\" cx=\"27\" cy=\"-90\" rx=\"27\" ry=\"18\"/>\n",
       "<text text-anchor=\"middle\" x=\"27\" y=\"-85.8\" font-family=\"Times,serif\" font-size=\"14.00\" fill=\"#000000\">vect</text>\n",
       "</g>\n",
       "<!-- logit -->\n",
       "<g id=\"node2\" class=\"node\">\n",
       "<title>logit</title>\n",
       "<ellipse fill=\"#add8e6\" stroke=\"#add8e6\" cx=\"27\" cy=\"-18\" rx=\"27\" ry=\"18\"/>\n",
       "<text text-anchor=\"middle\" x=\"27\" y=\"-13.8\" font-family=\"Times,serif\" font-size=\"14.00\" fill=\"#000000\">logit</text>\n",
       "</g>\n",
       "<!-- vect&#45;&gt;logit -->\n",
       "<g id=\"edge1\" class=\"edge\">\n",
       "<title>vect&#45;&gt;logit</title>\n",
       "<path fill=\"none\" stroke=\"#000000\" d=\"M27,-71.8314C27,-64.131 27,-54.9743 27,-46.4166\"/>\n",
       "<polygon fill=\"#000000\" stroke=\"#000000\" points=\"30.5001,-46.4132 27,-36.4133 23.5001,-46.4133 30.5001,-46.4132\"/>\n",
       "</g>\n",
       "</g>\n",
       "</svg>\n"
      ],
      "text/plain": [
       "<graphviz.dot.Digraph at 0x130182358>"
      ]
     },
     "execution_count": 15,
     "metadata": {},
     "output_type": "execute_result"
    }
   ],
   "source": [
    "gpipeline3 = GraphPipeline(models = {\"vect\":CountVectorizerWrapper(analyzer=\"word\",columns_to_use=text_cols),\n",
    "                                     \"logit\":LogisticRegression(solver=\"liblinear\")},edges=[(\"vect\",\"logit\")])\n",
    "gpipeline3.fit(Xtrain,y_train)\n",
    "gpipeline3.graphviz"
   ]
  },
  {
   "cell_type": "code",
   "execution_count": 16,
   "metadata": {},
   "outputs": [
    {
     "name": "stdout",
     "output_type": "stream",
     "text": [
      "cv 0 started\n",
      "\n",
      "cv 1 started\n",
      "\n",
      "cv 2 started\n",
      "\n",
      "cv 3 started\n",
      "\n",
      "cv 4 started\n",
      "\n",
      "cv 5 started\n",
      "\n",
      "cv 6 started\n",
      "\n",
      "cv 7 started\n",
      "\n",
      "cv 8 started\n",
      "\n",
      "cv 9 started\n",
      "\n"
     ]
    },
    {
     "data": {
      "text/plain": [
       "test_roc_auc         0.850918\n",
       "test_accuracy        0.819679\n",
       "test_neg_log_loss   -0.451681\n",
       "dtype: float64"
      ]
     },
     "execution_count": 16,
     "metadata": {},
     "output_type": "execute_result"
    }
   ],
   "source": [
    "cv_result = cross_validation(gpipeline3, Xtrain,y_train,cv = 10,scoring=[\"roc_auc\",\"accuracy\",\"neg_log_loss\"])\n",
    "cv_result.loc[:,(\"test_roc_auc\",\"test_accuracy\",\"test_neg_log_loss\")].mean()"
   ]
  },
  {
   "cell_type": "markdown",
   "metadata": {},
   "source": [
    "We can also try we \"bag of char\""
   ]
  },
  {
   "cell_type": "code",
   "execution_count": 17,
   "metadata": {},
   "outputs": [
    {
     "data": {
      "image/svg+xml": [
       "<?xml version=\"1.0\" encoding=\"UTF-8\" standalone=\"no\"?>\n",
       "<!DOCTYPE svg PUBLIC \"-//W3C//DTD SVG 1.1//EN\"\n",
       " \"http://www.w3.org/Graphics/SVG/1.1/DTD/svg11.dtd\">\n",
       "<!-- Generated by graphviz version 2.40.1 (20161225.0304)\n",
       " -->\n",
       "<!-- Title: %3 Pages: 1 -->\n",
       "<svg width=\"62pt\" height=\"116pt\"\n",
       " viewBox=\"0.00 0.00 62.00 116.00\" xmlns=\"http://www.w3.org/2000/svg\" xmlns:xlink=\"http://www.w3.org/1999/xlink\">\n",
       "<g id=\"graph0\" class=\"graph\" transform=\"scale(1 1) rotate(0) translate(4 112)\">\n",
       "<title>%3</title>\n",
       "<polygon fill=\"#ffffff\" stroke=\"transparent\" points=\"-4,4 -4,-112 58,-112 58,4 -4,4\"/>\n",
       "<!-- vect -->\n",
       "<g id=\"node1\" class=\"node\">\n",
       "<title>vect</title>\n",
       "<ellipse fill=\"#add8e6\" stroke=\"#add8e6\" cx=\"27\" cy=\"-90\" rx=\"27\" ry=\"18\"/>\n",
       "<text text-anchor=\"middle\" x=\"27\" y=\"-85.8\" font-family=\"Times,serif\" font-size=\"14.00\" fill=\"#000000\">vect</text>\n",
       "</g>\n",
       "<!-- logit -->\n",
       "<g id=\"node2\" class=\"node\">\n",
       "<title>logit</title>\n",
       "<ellipse fill=\"#add8e6\" stroke=\"#add8e6\" cx=\"27\" cy=\"-18\" rx=\"27\" ry=\"18\"/>\n",
       "<text text-anchor=\"middle\" x=\"27\" y=\"-13.8\" font-family=\"Times,serif\" font-size=\"14.00\" fill=\"#000000\">logit</text>\n",
       "</g>\n",
       "<!-- vect&#45;&gt;logit -->\n",
       "<g id=\"edge1\" class=\"edge\">\n",
       "<title>vect&#45;&gt;logit</title>\n",
       "<path fill=\"none\" stroke=\"#000000\" d=\"M27,-71.8314C27,-64.131 27,-54.9743 27,-46.4166\"/>\n",
       "<polygon fill=\"#000000\" stroke=\"#000000\" points=\"30.5001,-46.4132 27,-36.4133 23.5001,-46.4133 30.5001,-46.4132\"/>\n",
       "</g>\n",
       "</g>\n",
       "</svg>\n"
      ],
      "text/plain": [
       "<graphviz.dot.Digraph at 0x130307550>"
      ]
     },
     "execution_count": 17,
     "metadata": {},
     "output_type": "execute_result"
    }
   ],
   "source": [
    "gpipeline4 = GraphPipeline(models = {\n",
    "        \"vect\": CountVectorizerWrapper(analyzer=\"char\",ngram_range=(1,4),columns_to_use=text_cols),\n",
    "        \"logit\": LogisticRegression(solver=\"liblinear\") }, edges=[(\"vect\",\"logit\")])\n",
    "gpipeline4.fit(Xtrain,y_train)\n",
    "gpipeline4.graphviz"
   ]
  },
  {
   "cell_type": "code",
   "execution_count": 18,
   "metadata": {},
   "outputs": [
    {
     "name": "stdout",
     "output_type": "stream",
     "text": [
      "cv 0 started\n",
      "\n",
      "cv 1 started\n",
      "\n",
      "cv 2 started\n",
      "\n",
      "cv 3 started\n",
      "\n",
      "cv 4 started\n",
      "\n",
      "cv 5 started\n",
      "\n",
      "cv 6 started\n",
      "\n",
      "cv 7 started\n",
      "\n",
      "cv 8 started\n",
      "\n",
      "cv 9 started\n",
      "\n"
     ]
    },
    {
     "data": {
      "text/plain": [
       "test_roc_auc         0.849773\n",
       "test_accuracy        0.813956\n",
       "test_neg_log_loss   -0.559255\n",
       "dtype: float64"
      ]
     },
     "execution_count": 18,
     "metadata": {},
     "output_type": "execute_result"
    }
   ],
   "source": [
    "cv_result = cross_validation(gpipeline4,Xtrain,y_train,cv = 10,scoring=[\"roc_auc\",\"accuracy\",\"neg_log_loss\"])\n",
    "cv_result.loc[:,(\"test_roc_auc\",\"test_accuracy\",\"test_neg_log_loss\")].mean()"
   ]
  },
  {
   "cell_type": "markdown",
   "metadata": {},
   "source": [
    "#####   Now let's use all the columns"
   ]
  },
  {
   "cell_type": "code",
   "execution_count": 19,
   "metadata": {},
   "outputs": [
    {
     "data": {
      "image/svg+xml": [
       "<?xml version=\"1.0\" encoding=\"UTF-8\" standalone=\"no\"?>\n",
       "<!DOCTYPE svg PUBLIC \"-//W3C//DTD SVG 1.1//EN\"\n",
       " \"http://www.w3.org/Graphics/SVG/1.1/DTD/svg11.dtd\">\n",
       "<!-- Generated by graphviz version 2.40.1 (20161225.0304)\n",
       " -->\n",
       "<!-- Title: %3 Pages: 1 -->\n",
       "<svg width=\"134pt\" height=\"188pt\"\n",
       " viewBox=\"0.00 0.00 134.00 188.00\" xmlns=\"http://www.w3.org/2000/svg\" xmlns:xlink=\"http://www.w3.org/1999/xlink\">\n",
       "<g id=\"graph0\" class=\"graph\" transform=\"scale(1 1) rotate(0) translate(4 184)\">\n",
       "<title>%3</title>\n",
       "<polygon fill=\"#ffffff\" stroke=\"transparent\" points=\"-4,4 -4,-184 130,-184 130,4 -4,4\"/>\n",
       "<!-- imp -->\n",
       "<g id=\"node1\" class=\"node\">\n",
       "<title>imp</title>\n",
       "<ellipse fill=\"#add8e6\" stroke=\"#add8e6\" cx=\"99\" cy=\"-90\" rx=\"27\" ry=\"18\"/>\n",
       "<text text-anchor=\"middle\" x=\"99\" y=\"-85.8\" font-family=\"Times,serif\" font-size=\"14.00\" fill=\"#000000\">imp</text>\n",
       "</g>\n",
       "<!-- rf -->\n",
       "<g id=\"node2\" class=\"node\">\n",
       "<title>rf</title>\n",
       "<ellipse fill=\"#add8e6\" stroke=\"#add8e6\" cx=\"63\" cy=\"-18\" rx=\"27\" ry=\"18\"/>\n",
       "<text text-anchor=\"middle\" x=\"63\" y=\"-13.8\" font-family=\"Times,serif\" font-size=\"14.00\" fill=\"#000000\">rf</text>\n",
       "</g>\n",
       "<!-- imp&#45;&gt;rf -->\n",
       "<g id=\"edge1\" class=\"edge\">\n",
       "<title>imp&#45;&gt;rf</title>\n",
       "<path fill=\"none\" stroke=\"#000000\" d=\"M90.2854,-72.5708C86.0403,-64.0807 80.8464,-53.6929 76.1337,-44.2674\"/>\n",
       "<polygon fill=\"#000000\" stroke=\"#000000\" points=\"79.237,-42.6477 71.6343,-35.2687 72.976,-45.7782 79.237,-42.6477\"/>\n",
       "</g>\n",
       "<!-- enc -->\n",
       "<g id=\"node3\" class=\"node\">\n",
       "<title>enc</title>\n",
       "<ellipse fill=\"#add8e6\" stroke=\"#add8e6\" cx=\"99\" cy=\"-162\" rx=\"27\" ry=\"18\"/>\n",
       "<text text-anchor=\"middle\" x=\"99\" y=\"-157.8\" font-family=\"Times,serif\" font-size=\"14.00\" fill=\"#000000\">enc</text>\n",
       "</g>\n",
       "<!-- enc&#45;&gt;imp -->\n",
       "<g id=\"edge2\" class=\"edge\">\n",
       "<title>enc&#45;&gt;imp</title>\n",
       "<path fill=\"none\" stroke=\"#000000\" d=\"M99,-143.8314C99,-136.131 99,-126.9743 99,-118.4166\"/>\n",
       "<polygon fill=\"#000000\" stroke=\"#000000\" points=\"102.5001,-118.4132 99,-108.4133 95.5001,-118.4133 102.5001,-118.4132\"/>\n",
       "</g>\n",
       "<!-- vect -->\n",
       "<g id=\"node4\" class=\"node\">\n",
       "<title>vect</title>\n",
       "<ellipse fill=\"#add8e6\" stroke=\"#add8e6\" cx=\"27\" cy=\"-90\" rx=\"27\" ry=\"18\"/>\n",
       "<text text-anchor=\"middle\" x=\"27\" y=\"-85.8\" font-family=\"Times,serif\" font-size=\"14.00\" fill=\"#000000\">vect</text>\n",
       "</g>\n",
       "<!-- vect&#45;&gt;rf -->\n",
       "<g id=\"edge3\" class=\"edge\">\n",
       "<title>vect&#45;&gt;rf</title>\n",
       "<path fill=\"none\" stroke=\"#000000\" d=\"M35.7146,-72.5708C39.9597,-64.0807 45.1536,-53.6929 49.8663,-44.2674\"/>\n",
       "<polygon fill=\"#000000\" stroke=\"#000000\" points=\"53.024,-45.7782 54.3657,-35.2687 46.763,-42.6477 53.024,-45.7782\"/>\n",
       "</g>\n",
       "</g>\n",
       "</svg>\n"
      ],
      "text/plain": [
       "<graphviz.dot.Digraph at 0x1308d8c88>"
      ]
     },
     "execution_count": 19,
     "metadata": {},
     "output_type": "execute_result"
    }
   ],
   "source": [
    "gpipeline5 = GraphPipeline(models = {\"enc\":NumericalEncoder(columns_to_use=non_text_cols),\n",
    "                        \"imp\":NumImputer(),\n",
    "                        \"vect\":CountVectorizerWrapper(analyzer=\"word\",columns_to_use=text_cols),\n",
    "                        \"rf\":RandomForestClassifier(n_estimators=100)\n",
    "                       },\n",
    "              edges = [(\"enc\",\"imp\",\"rf\"),(\"vect\",\"rf\")])\n",
    "gpipeline5.fit(Xtrain,y_train)\n",
    "gpipeline5.graphviz"
   ]
  },
  {
   "cell_type": "markdown",
   "metadata": {},
   "source": [
    "This model uses both set of columns:\n",
    "* bag of word\n",
    "* and categorical/numerical features"
   ]
  },
  {
   "cell_type": "code",
   "execution_count": 20,
   "metadata": {},
   "outputs": [
    {
     "name": "stdout",
     "output_type": "stream",
     "text": [
      "cv 0 started\n",
      "\n",
      "cv 1 started\n",
      "\n",
      "cv 2 started\n",
      "\n",
      "cv 3 started\n",
      "\n",
      "cv 4 started\n",
      "\n",
      "cv 5 started\n",
      "\n",
      "cv 6 started\n",
      "\n",
      "cv 7 started\n",
      "\n",
      "cv 8 started\n",
      "\n",
      "cv 9 started\n",
      "\n"
     ]
    },
    {
     "data": {
      "text/plain": [
       "test_roc_auc         0.992654\n",
       "test_accuracy        0.967564\n",
       "test_neg_log_loss   -0.199877\n",
       "dtype: float64"
      ]
     },
     "execution_count": 20,
     "metadata": {},
     "output_type": "execute_result"
    }
   ],
   "source": [
    "cv_result = cross_validation(gpipeline5,Xtrain,y_train,cv = 10,scoring=[\"roc_auc\",\"accuracy\",\"neg_log_loss\"])\n",
    "cv_result.loc[:,(\"test_roc_auc\",\"test_accuracy\",\"test_neg_log_loss\")].mean()"
   ]
  },
  {
   "cell_type": "markdown",
   "metadata": {},
   "source": [
    "<b>We can also use both Bag of Char and Bag of Word </b>"
   ]
  },
  {
   "cell_type": "code",
   "execution_count": 21,
   "metadata": {},
   "outputs": [
    {
     "data": {
      "image/svg+xml": [
       "<?xml version=\"1.0\" encoding=\"UTF-8\" standalone=\"no\"?>\n",
       "<!DOCTYPE svg PUBLIC \"-//W3C//DTD SVG 1.1//EN\"\n",
       " \"http://www.w3.org/Graphics/SVG/1.1/DTD/svg11.dtd\">\n",
       "<!-- Generated by graphviz version 2.40.1 (20161225.0304)\n",
       " -->\n",
       "<!-- Title: %3 Pages: 1 -->\n",
       "<svg width=\"281pt\" height=\"188pt\"\n",
       " viewBox=\"0.00 0.00 281.47 188.00\" xmlns=\"http://www.w3.org/2000/svg\" xmlns:xlink=\"http://www.w3.org/1999/xlink\">\n",
       "<g id=\"graph0\" class=\"graph\" transform=\"scale(1 1) rotate(0) translate(4 184)\">\n",
       "<title>%3</title>\n",
       "<polygon fill=\"#ffffff\" stroke=\"transparent\" points=\"-4,4 -4,-184 277.4746,-184 277.4746,4 -4,4\"/>\n",
       "<!-- imp -->\n",
       "<g id=\"node1\" class=\"node\">\n",
       "<title>imp</title>\n",
       "<ellipse fill=\"#add8e6\" stroke=\"#add8e6\" cx=\"246.4746\" cy=\"-90\" rx=\"27\" ry=\"18\"/>\n",
       "<text text-anchor=\"middle\" x=\"246.4746\" y=\"-85.8\" font-family=\"Times,serif\" font-size=\"14.00\" fill=\"#000000\">imp</text>\n",
       "</g>\n",
       "<!-- rf -->\n",
       "<g id=\"node2\" class=\"node\">\n",
       "<title>rf</title>\n",
       "<ellipse fill=\"#add8e6\" stroke=\"#add8e6\" cx=\"154.4746\" cy=\"-18\" rx=\"27\" ry=\"18\"/>\n",
       "<text text-anchor=\"middle\" x=\"154.4746\" y=\"-13.8\" font-family=\"Times,serif\" font-size=\"14.00\" fill=\"#000000\">rf</text>\n",
       "</g>\n",
       "<!-- imp&#45;&gt;rf -->\n",
       "<g id=\"edge1\" class=\"edge\">\n",
       "<title>imp&#45;&gt;rf</title>\n",
       "<path fill=\"none\" stroke=\"#000000\" d=\"M228.736,-76.1177C214.9904,-65.3602 195.7479,-50.3009 180.2948,-38.2072\"/>\n",
       "<polygon fill=\"#000000\" stroke=\"#000000\" points=\"182.1908,-35.2466 172.1586,-31.8397 177.8766,-40.7591 182.1908,-35.2466\"/>\n",
       "</g>\n",
       "<!-- enc -->\n",
       "<g id=\"node3\" class=\"node\">\n",
       "<title>enc</title>\n",
       "<ellipse fill=\"#add8e6\" stroke=\"#add8e6\" cx=\"246.4746\" cy=\"-162\" rx=\"27\" ry=\"18\"/>\n",
       "<text text-anchor=\"middle\" x=\"246.4746\" y=\"-157.8\" font-family=\"Times,serif\" font-size=\"14.00\" fill=\"#000000\">enc</text>\n",
       "</g>\n",
       "<!-- enc&#45;&gt;imp -->\n",
       "<g id=\"edge2\" class=\"edge\">\n",
       "<title>enc&#45;&gt;imp</title>\n",
       "<path fill=\"none\" stroke=\"#000000\" d=\"M246.4746,-143.8314C246.4746,-136.131 246.4746,-126.9743 246.4746,-118.4166\"/>\n",
       "<polygon fill=\"#000000\" stroke=\"#000000\" points=\"249.9747,-118.4132 246.4746,-108.4133 242.9747,-118.4133 249.9747,-118.4132\"/>\n",
       "</g>\n",
       "<!-- vect_char -->\n",
       "<g id=\"node4\" class=\"node\">\n",
       "<title>vect_char</title>\n",
       "<ellipse fill=\"#add8e6\" stroke=\"#add8e6\" cx=\"44.4746\" cy=\"-90\" rx=\"44.4491\" ry=\"18\"/>\n",
       "<text text-anchor=\"middle\" x=\"44.4746\" y=\"-85.8\" font-family=\"Times,serif\" font-size=\"14.00\" fill=\"#000000\">vect_char</text>\n",
       "</g>\n",
       "<!-- vect_char&#45;&gt;rf -->\n",
       "<g id=\"edge3\" class=\"edge\">\n",
       "<title>vect_char&#45;&gt;rf</title>\n",
       "<path fill=\"none\" stroke=\"#000000\" d=\"M68.0723,-74.5542C85.2156,-63.3332 108.48,-48.1055 126.5497,-36.2781\"/>\n",
       "<polygon fill=\"#000000\" stroke=\"#000000\" points=\"128.5031,-39.1826 134.9533,-30.7775 124.6695,-33.3257 128.5031,-39.1826\"/>\n",
       "</g>\n",
       "<!-- vect_word -->\n",
       "<g id=\"node5\" class=\"node\">\n",
       "<title>vect_word</title>\n",
       "<ellipse fill=\"#add8e6\" stroke=\"#add8e6\" cx=\"154.4746\" cy=\"-90\" rx=\"47.365\" ry=\"18\"/>\n",
       "<text text-anchor=\"middle\" x=\"154.4746\" y=\"-85.8\" font-family=\"Times,serif\" font-size=\"14.00\" fill=\"#000000\">vect_word</text>\n",
       "</g>\n",
       "<!-- vect_word&#45;&gt;rf -->\n",
       "<g id=\"edge4\" class=\"edge\">\n",
       "<title>vect_word&#45;&gt;rf</title>\n",
       "<path fill=\"none\" stroke=\"#000000\" d=\"M154.4746,-71.8314C154.4746,-64.131 154.4746,-54.9743 154.4746,-46.4166\"/>\n",
       "<polygon fill=\"#000000\" stroke=\"#000000\" points=\"157.9747,-46.4132 154.4746,-36.4133 150.9747,-46.4133 157.9747,-46.4132\"/>\n",
       "</g>\n",
       "</g>\n",
       "</svg>\n"
      ],
      "text/plain": [
       "<graphviz.dot.Digraph at 0x111a99438>"
      ]
     },
     "execution_count": 21,
     "metadata": {},
     "output_type": "execute_result"
    }
   ],
   "source": [
    "gpipeline6 = GraphPipeline(models = {\"enc\":NumericalEncoder(columns_to_use=non_text_cols),\n",
    "                        \"imp\":NumImputer(),\n",
    "                        \"vect_char\":CountVectorizerWrapper(analyzer=\"word\",columns_to_use=text_cols),\n",
    "                        \"vect_word\":CountVectorizerWrapper(analyzer=\"char\",ngram_range=(1,4),columns_to_use=text_cols),\n",
    "                        \"rf\":RandomForestClassifier(n_estimators=100)\n",
    "                       },\n",
    "              edges = [(\"enc\",\"imp\",\"rf\"),(\"vect_char\",\"rf\"),(\"vect_word\",\"rf\")])\n",
    "gpipeline6.fit(Xtrain,y_train)\n",
    "gpipeline6.graphviz"
   ]
  },
  {
   "cell_type": "code",
   "execution_count": 22,
   "metadata": {},
   "outputs": [
    {
     "name": "stdout",
     "output_type": "stream",
     "text": [
      "cv 0 started\n",
      "\n",
      "cv 1 started\n",
      "\n",
      "cv 2 started\n",
      "\n",
      "cv 3 started\n",
      "\n",
      "cv 4 started\n",
      "\n",
      "cv 5 started\n",
      "\n",
      "cv 6 started\n",
      "\n",
      "cv 7 started\n",
      "\n",
      "cv 8 started\n",
      "\n",
      "cv 9 started\n",
      "\n"
     ]
    },
    {
     "data": {
      "text/plain": [
       "test_roc_auc         0.949324\n",
       "test_accuracy        0.842573\n",
       "test_neg_log_loss   -0.296316\n",
       "dtype: float64"
      ]
     },
     "execution_count": 22,
     "metadata": {},
     "output_type": "execute_result"
    }
   ],
   "source": [
    "cv_result = cross_validation(gpipeline6,Xtrain,y_train,cv = 10,scoring=[\"roc_auc\",\"accuracy\",\"neg_log_loss\"])\n",
    "cv_result.loc[:,(\"test_roc_auc\",\"test_accuracy\",\"test_neg_log_loss\")].mean()"
   ]
  },
  {
   "cell_type": "markdown",
   "metadata": {},
   "source": [
    "Maybe we can try <b>SVD</b> to limit dimension of bag of char/word features"
   ]
  },
  {
   "cell_type": "code",
   "execution_count": 23,
   "metadata": {},
   "outputs": [
    {
     "data": {
      "image/svg+xml": [
       "<?xml version=\"1.0\" encoding=\"UTF-8\" standalone=\"no\"?>\n",
       "<!DOCTYPE svg PUBLIC \"-//W3C//DTD SVG 1.1//EN\"\n",
       " \"http://www.w3.org/Graphics/SVG/1.1/DTD/svg11.dtd\">\n",
       "<!-- Generated by graphviz version 2.40.1 (20161225.0304)\n",
       " -->\n",
       "<!-- Title: %3 Pages: 1 -->\n",
       "<svg width=\"281pt\" height=\"188pt\"\n",
       " viewBox=\"0.00 0.00 281.43 188.00\" xmlns=\"http://www.w3.org/2000/svg\" xmlns:xlink=\"http://www.w3.org/1999/xlink\">\n",
       "<g id=\"graph0\" class=\"graph\" transform=\"scale(1 1) rotate(0) translate(4 184)\">\n",
       "<title>%3</title>\n",
       "<polygon fill=\"#ffffff\" stroke=\"transparent\" points=\"-4,4 -4,-184 277.4325,-184 277.4325,4 -4,4\"/>\n",
       "<!-- imp -->\n",
       "<g id=\"node1\" class=\"node\">\n",
       "<title>imp</title>\n",
       "<ellipse fill=\"#add8e6\" stroke=\"#add8e6\" cx=\"237.4325\" cy=\"-90\" rx=\"27\" ry=\"18\"/>\n",
       "<text text-anchor=\"middle\" x=\"237.4325\" y=\"-85.8\" font-family=\"Times,serif\" font-size=\"14.00\" fill=\"#000000\">imp</text>\n",
       "</g>\n",
       "<!-- rf -->\n",
       "<g id=\"node2\" class=\"node\">\n",
       "<title>rf</title>\n",
       "<ellipse fill=\"#add8e6\" stroke=\"#add8e6\" cx=\"193.4325\" cy=\"-18\" rx=\"27\" ry=\"18\"/>\n",
       "<text text-anchor=\"middle\" x=\"193.4325\" y=\"-13.8\" font-family=\"Times,serif\" font-size=\"14.00\" fill=\"#000000\">rf</text>\n",
       "</g>\n",
       "<!-- imp&#45;&gt;rf -->\n",
       "<g id=\"edge1\" class=\"edge\">\n",
       "<title>imp&#45;&gt;rf</title>\n",
       "<path fill=\"none\" stroke=\"#000000\" d=\"M227.2274,-73.3008C221.8628,-64.5224 215.1699,-53.5703 209.1588,-43.7339\"/>\n",
       "<polygon fill=\"#000000\" stroke=\"#000000\" points=\"212.0888,-41.8164 203.8877,-35.1086 206.1158,-45.4666 212.0888,-41.8164\"/>\n",
       "</g>\n",
       "<!-- enc -->\n",
       "<g id=\"node3\" class=\"node\">\n",
       "<title>enc</title>\n",
       "<ellipse fill=\"#add8e6\" stroke=\"#add8e6\" cx=\"246.4325\" cy=\"-162\" rx=\"27\" ry=\"18\"/>\n",
       "<text text-anchor=\"middle\" x=\"246.4325\" y=\"-157.8\" font-family=\"Times,serif\" font-size=\"14.00\" fill=\"#000000\">enc</text>\n",
       "</g>\n",
       "<!-- enc&#45;&gt;imp -->\n",
       "<g id=\"edge2\" class=\"edge\">\n",
       "<title>enc&#45;&gt;imp</title>\n",
       "<path fill=\"none\" stroke=\"#000000\" d=\"M244.1614,-143.8314C243.1988,-136.131 242.0543,-126.9743 240.9845,-118.4166\"/>\n",
       "<polygon fill=\"#000000\" stroke=\"#000000\" points=\"244.4475,-117.9019 239.7341,-108.4133 237.5016,-118.7702 244.4475,-117.9019\"/>\n",
       "</g>\n",
       "<!-- svd -->\n",
       "<g id=\"node4\" class=\"node\">\n",
       "<title>svd</title>\n",
       "<ellipse fill=\"#add8e6\" stroke=\"#add8e6\" cx=\"157.4325\" cy=\"-90\" rx=\"27\" ry=\"18\"/>\n",
       "<text text-anchor=\"middle\" x=\"157.4325\" y=\"-85.8\" font-family=\"Times,serif\" font-size=\"14.00\" fill=\"#000000\">svd</text>\n",
       "</g>\n",
       "<!-- svd&#45;&gt;rf -->\n",
       "<g id=\"edge3\" class=\"edge\">\n",
       "<title>svd&#45;&gt;rf</title>\n",
       "<path fill=\"none\" stroke=\"#000000\" d=\"M166.1471,-72.5708C170.3921,-64.0807 175.586,-53.6929 180.2988,-44.2674\"/>\n",
       "<polygon fill=\"#000000\" stroke=\"#000000\" points=\"183.4564,-45.7782 184.7981,-35.2687 177.1954,-42.6477 183.4564,-45.7782\"/>\n",
       "</g>\n",
       "<!-- vect_word -->\n",
       "<g id=\"node5\" class=\"node\">\n",
       "<title>vect_word</title>\n",
       "<ellipse fill=\"#add8e6\" stroke=\"#add8e6\" cx=\"47.4325\" cy=\"-162\" rx=\"47.365\" ry=\"18\"/>\n",
       "<text text-anchor=\"middle\" x=\"47.4325\" y=\"-157.8\" font-family=\"Times,serif\" font-size=\"14.00\" fill=\"#000000\">vect_word</text>\n",
       "</g>\n",
       "<!-- vect_word&#45;&gt;svd -->\n",
       "<g id=\"edge4\" class=\"edge\">\n",
       "<title>vect_word&#45;&gt;svd</title>\n",
       "<path fill=\"none\" stroke=\"#000000\" d=\"M71.3008,-146.3771C88.3041,-135.2476 111.2264,-120.244 129.1491,-108.5127\"/>\n",
       "<polygon fill=\"#000000\" stroke=\"#000000\" points=\"131.5578,-111.1193 138.008,-102.7142 127.7242,-105.2623 131.5578,-111.1193\"/>\n",
       "</g>\n",
       "<!-- vect_char -->\n",
       "<g id=\"node6\" class=\"node\">\n",
       "<title>vect_char</title>\n",
       "<ellipse fill=\"#add8e6\" stroke=\"#add8e6\" cx=\"157.4325\" cy=\"-162\" rx=\"44.4491\" ry=\"18\"/>\n",
       "<text text-anchor=\"middle\" x=\"157.4325\" y=\"-157.8\" font-family=\"Times,serif\" font-size=\"14.00\" fill=\"#000000\">vect_char</text>\n",
       "</g>\n",
       "<!-- vect_char&#45;&gt;svd -->\n",
       "<g id=\"edge5\" class=\"edge\">\n",
       "<title>vect_char&#45;&gt;svd</title>\n",
       "<path fill=\"none\" stroke=\"#000000\" d=\"M157.4325,-143.8314C157.4325,-136.131 157.4325,-126.9743 157.4325,-118.4166\"/>\n",
       "<polygon fill=\"#000000\" stroke=\"#000000\" points=\"160.9326,-118.4132 157.4325,-108.4133 153.9326,-118.4133 160.9326,-118.4132\"/>\n",
       "</g>\n",
       "</g>\n",
       "</svg>\n"
      ],
      "text/plain": [
       "<graphviz.dot.Digraph at 0x130ba52e8>"
      ]
     },
     "execution_count": 23,
     "metadata": {},
     "output_type": "execute_result"
    }
   ],
   "source": [
    "gpipeline7 = GraphPipeline(models = {\"enc\":NumericalEncoder(columns_to_use=non_text_cols),\n",
    "                        \"imp\":NumImputer(),\n",
    "                        \"vect_word\":CountVectorizerWrapper(analyzer=\"word\",columns_to_use=text_cols),\n",
    "                        \"vect_char\":CountVectorizerWrapper(analyzer=\"char\",ngram_range=(1,4),columns_to_use=text_cols),\n",
    "                        \"svd\":TruncatedSVDWrapper(n_components=100),\n",
    "                        \"rf\":RandomForestClassifier(n_estimators=100)\n",
    "                       },\n",
    "              edges = [(\"enc\",\"imp\",\"rf\"),(\"vect_word\",\"svd\",\"rf\"),(\"vect_char\",\"svd\",\"rf\")])\n",
    "gpipeline7.fit(Xtrain,y_train)\n",
    "gpipeline7.graphviz"
   ]
  },
  {
   "cell_type": "code",
   "execution_count": 24,
   "metadata": {},
   "outputs": [
    {
     "name": "stdout",
     "output_type": "stream",
     "text": [
      "cv 0 started\n",
      "\n",
      "cv 1 started\n",
      "\n",
      "cv 2 started\n",
      "\n",
      "cv 3 started\n",
      "\n",
      "cv 4 started\n",
      "\n",
      "cv 5 started\n",
      "\n",
      "cv 6 started\n",
      "\n",
      "cv 7 started\n",
      "\n",
      "cv 8 started\n",
      "\n",
      "cv 9 started\n",
      "\n"
     ]
    },
    {
     "data": {
      "text/plain": [
       "test_roc_auc         0.994093\n",
       "test_accuracy        0.970430\n",
       "test_neg_log_loss   -0.162642\n",
       "dtype: float64"
      ]
     },
     "execution_count": 24,
     "metadata": {},
     "output_type": "execute_result"
    }
   ],
   "source": [
    "cv_result = cross_validation(gpipeline7,Xtrain,y_train,cv = 10,scoring=[\"roc_auc\",\"accuracy\",\"neg_log_loss\"])\n",
    "cv_result.loc[:,(\"test_roc_auc\",\"test_accuracy\",\"test_neg_log_loss\")].mean()"
   ]
  },
  {
   "cell_type": "markdown",
   "metadata": {},
   "source": [
    "We can even add 'SVD' columns AND bag of word/char columns "
   ]
  },
  {
   "cell_type": "code",
   "execution_count": 25,
   "metadata": {},
   "outputs": [
    {
     "data": {
      "image/svg+xml": [
       "<?xml version=\"1.0\" encoding=\"UTF-8\" standalone=\"no\"?>\n",
       "<!DOCTYPE svg PUBLIC \"-//W3C//DTD SVG 1.1//EN\"\n",
       " \"http://www.w3.org/Graphics/SVG/1.1/DTD/svg11.dtd\">\n",
       "<!-- Generated by graphviz version 2.40.1 (20161225.0304)\n",
       " -->\n",
       "<!-- Title: %3 Pages: 1 -->\n",
       "<svg width=\"281pt\" height=\"188pt\"\n",
       " viewBox=\"0.00 0.00 281.43 188.00\" xmlns=\"http://www.w3.org/2000/svg\" xmlns:xlink=\"http://www.w3.org/1999/xlink\">\n",
       "<g id=\"graph0\" class=\"graph\" transform=\"scale(1 1) rotate(0) translate(4 184)\">\n",
       "<title>%3</title>\n",
       "<polygon fill=\"#ffffff\" stroke=\"transparent\" points=\"-4,4 -4,-184 277.4325,-184 277.4325,4 -4,4\"/>\n",
       "<!-- imp -->\n",
       "<g id=\"node1\" class=\"node\">\n",
       "<title>imp</title>\n",
       "<ellipse fill=\"#add8e6\" stroke=\"#add8e6\" cx=\"229.4325\" cy=\"-90\" rx=\"27\" ry=\"18\"/>\n",
       "<text text-anchor=\"middle\" x=\"229.4325\" y=\"-85.8\" font-family=\"Times,serif\" font-size=\"14.00\" fill=\"#000000\">imp</text>\n",
       "</g>\n",
       "<!-- rf -->\n",
       "<g id=\"node2\" class=\"node\">\n",
       "<title>rf</title>\n",
       "<ellipse fill=\"#add8e6\" stroke=\"#add8e6\" cx=\"129.4325\" cy=\"-18\" rx=\"27\" ry=\"18\"/>\n",
       "<text text-anchor=\"middle\" x=\"129.4325\" y=\"-13.8\" font-family=\"Times,serif\" font-size=\"14.00\" fill=\"#000000\">rf</text>\n",
       "</g>\n",
       "<!-- imp&#45;&gt;rf -->\n",
       "<g id=\"edge1\" class=\"edge\">\n",
       "<title>imp&#45;&gt;rf</title>\n",
       "<path fill=\"none\" stroke=\"#000000\" d=\"M210.6232,-76.4574C195.3023,-65.4263 173.4759,-49.7113 156.3114,-37.3528\"/>\n",
       "<polygon fill=\"#000000\" stroke=\"#000000\" points=\"157.9799,-34.2414 147.8195,-31.2387 153.8898,-39.9221 157.9799,-34.2414\"/>\n",
       "</g>\n",
       "<!-- enc -->\n",
       "<g id=\"node3\" class=\"node\">\n",
       "<title>enc</title>\n",
       "<ellipse fill=\"#add8e6\" stroke=\"#add8e6\" cx=\"246.4325\" cy=\"-162\" rx=\"27\" ry=\"18\"/>\n",
       "<text text-anchor=\"middle\" x=\"246.4325\" y=\"-157.8\" font-family=\"Times,serif\" font-size=\"14.00\" fill=\"#000000\">enc</text>\n",
       "</g>\n",
       "<!-- enc&#45;&gt;imp -->\n",
       "<g id=\"edge2\" class=\"edge\">\n",
       "<title>enc&#45;&gt;imp</title>\n",
       "<path fill=\"none\" stroke=\"#000000\" d=\"M242.2302,-144.2022C240.3504,-136.2406 238.09,-126.6671 235.9953,-117.7957\"/>\n",
       "<polygon fill=\"#000000\" stroke=\"#000000\" points=\"239.3496,-116.7706 233.6453,-107.8425 232.537,-118.3792 239.3496,-116.7706\"/>\n",
       "</g>\n",
       "<!-- svd -->\n",
       "<g id=\"node4\" class=\"node\">\n",
       "<title>svd</title>\n",
       "<ellipse fill=\"#add8e6\" stroke=\"#add8e6\" cx=\"102.4325\" cy=\"-90\" rx=\"27\" ry=\"18\"/>\n",
       "<text text-anchor=\"middle\" x=\"102.4325\" y=\"-85.8\" font-family=\"Times,serif\" font-size=\"14.00\" fill=\"#000000\">svd</text>\n",
       "</g>\n",
       "<!-- svd&#45;&gt;rf -->\n",
       "<g id=\"edge3\" class=\"edge\">\n",
       "<title>svd&#45;&gt;rf</title>\n",
       "<path fill=\"none\" stroke=\"#000000\" d=\"M109.1066,-72.2022C112.1801,-64.0064 115.8941,-54.1024 119.302,-45.0145\"/>\n",
       "<polygon fill=\"#000000\" stroke=\"#000000\" points=\"122.6009,-46.1853 122.8351,-35.593 116.0466,-43.7274 122.6009,-46.1853\"/>\n",
       "</g>\n",
       "<!-- vect_word -->\n",
       "<g id=\"node5\" class=\"node\">\n",
       "<title>vect_word</title>\n",
       "<ellipse fill=\"#add8e6\" stroke=\"#add8e6\" cx=\"47.4325\" cy=\"-162\" rx=\"47.365\" ry=\"18\"/>\n",
       "<text text-anchor=\"middle\" x=\"47.4325\" y=\"-157.8\" font-family=\"Times,serif\" font-size=\"14.00\" fill=\"#000000\">vect_word</text>\n",
       "</g>\n",
       "<!-- vect_word&#45;&gt;rf -->\n",
       "<g id=\"edge5\" class=\"edge\">\n",
       "<title>vect_word&#45;&gt;rf</title>\n",
       "<path fill=\"none\" stroke=\"#000000\" d=\"M47.8778,-143.8622C49.0855,-124.7557 53.1587,-94.3914 66.4325,-72 74.9078,-57.703 88.5401,-45.3246 100.9595,-36.0393\"/>\n",
       "<polygon fill=\"#000000\" stroke=\"#000000\" points=\"103.1635,-38.7668 109.2855,-30.1197 99.1073,-33.0618 103.1635,-38.7668\"/>\n",
       "</g>\n",
       "<!-- vect_word&#45;&gt;svd -->\n",
       "<g id=\"edge4\" class=\"edge\">\n",
       "<title>vect_word&#45;&gt;svd</title>\n",
       "<path fill=\"none\" stroke=\"#000000\" d=\"M60.7464,-144.5708C67.7009,-135.4668 76.3222,-124.1808 83.9165,-114.2391\"/>\n",
       "<polygon fill=\"#000000\" stroke=\"#000000\" points=\"86.706,-116.3531 89.9951,-106.2817 81.1433,-112.1038 86.706,-116.3531\"/>\n",
       "</g>\n",
       "<!-- vect_char -->\n",
       "<g id=\"node6\" class=\"node\">\n",
       "<title>vect_char</title>\n",
       "<ellipse fill=\"#add8e6\" stroke=\"#add8e6\" cx=\"157.4325\" cy=\"-162\" rx=\"44.4491\" ry=\"18\"/>\n",
       "<text text-anchor=\"middle\" x=\"157.4325\" y=\"-157.8\" font-family=\"Times,serif\" font-size=\"14.00\" fill=\"#000000\">vect_char</text>\n",
       "</g>\n",
       "<!-- vect_char&#45;&gt;rf -->\n",
       "<g id=\"edge7\" class=\"edge\">\n",
       "<title>vect_char&#45;&gt;rf</title>\n",
       "<path fill=\"none\" stroke=\"#000000\" d=\"M153.9429,-144.0535C149.1642,-119.4774 140.5354,-75.1008 134.8959,-46.0974\"/>\n",
       "<polygon fill=\"#000000\" stroke=\"#000000\" points=\"138.3105,-45.3208 132.966,-36.1727 131.4392,-46.6569 138.3105,-45.3208\"/>\n",
       "</g>\n",
       "<!-- vect_char&#45;&gt;svd -->\n",
       "<g id=\"edge6\" class=\"edge\">\n",
       "<title>vect_char&#45;&gt;svd</title>\n",
       "<path fill=\"none\" stroke=\"#000000\" d=\"M144.1185,-144.5708C137.164,-135.4668 128.5428,-124.1808 120.9484,-114.2391\"/>\n",
       "<polygon fill=\"#000000\" stroke=\"#000000\" points=\"123.7217,-112.1038 114.8699,-106.2817 118.159,-116.3531 123.7217,-112.1038\"/>\n",
       "</g>\n",
       "</g>\n",
       "</svg>\n"
      ],
      "text/plain": [
       "<graphviz.dot.Digraph at 0x12d00af98>"
      ]
     },
     "execution_count": 25,
     "metadata": {},
     "output_type": "execute_result"
    }
   ],
   "source": [
    "gpipeline8 = GraphPipeline(models = {\"enc\":NumericalEncoder(columns_to_use=non_text_cols),\n",
    "                        \"imp\":NumImputer(),\n",
    "                        \"vect_word\":CountVectorizerWrapper(analyzer=\"word\",columns_to_use=text_cols),\n",
    "                        \"vect_char\":CountVectorizerWrapper(analyzer=\"char\",ngram_range=(1,4),columns_to_use=text_cols),\n",
    "                        \"svd\":TruncatedSVDWrapper(n_components=100),\n",
    "                        \"rf\":RandomForestClassifier(n_estimators=100)\n",
    "                       },\n",
    "            edges = [(\"enc\",\"imp\",\"rf\"),(\"vect_word\",\"svd\",\"rf\"),(\"vect_char\",\"svd\",\"rf\"),(\"vect_word\",\"rf\"),(\"vect_char\",\"rf\")])\n",
    "gpipeline8.fit(Xtrain,y_train)\n",
    "gpipeline8.graphviz"
   ]
  },
  {
   "cell_type": "code",
   "execution_count": 26,
   "metadata": {},
   "outputs": [
    {
     "name": "stdout",
     "output_type": "stream",
     "text": [
      "cv 0 started\n",
      "\n",
      "cv 1 started\n",
      "\n",
      "cv 2 started\n",
      "\n",
      "cv 3 started\n",
      "\n",
      "cv 4 started\n",
      "\n",
      "cv 5 started\n",
      "\n",
      "cv 6 started\n",
      "\n",
      "cv 7 started\n",
      "\n",
      "cv 8 started\n",
      "\n",
      "cv 9 started\n",
      "\n"
     ]
    },
    {
     "data": {
      "text/plain": [
       "test_roc_auc         0.944385\n",
       "test_accuracy        0.848306\n",
       "test_neg_log_loss   -0.323621\n",
       "dtype: float64"
      ]
     },
     "execution_count": 26,
     "metadata": {},
     "output_type": "execute_result"
    }
   ],
   "source": [
    "cv_result = cross_validation(gpipeline8,Xtrain,y_train,cv = 10,scoring=[\"roc_auc\",\"accuracy\",\"neg_log_loss\"])\n",
    "cv_result.loc[:,(\"test_roc_auc\",\"test_accuracy\",\"test_neg_log_loss\")].mean()"
   ]
  },
  {
   "cell_type": "markdown",
   "metadata": {},
   "source": [
    "Instead of 'SVD' we can add a layer that filter columns... "
   ]
  },
  {
   "cell_type": "code",
   "execution_count": 27,
   "metadata": {},
   "outputs": [],
   "source": [
    "from aikit.transformers import FeaturesSelectorClassifier"
   ]
  },
  {
   "cell_type": "code",
   "execution_count": 28,
   "metadata": {},
   "outputs": [
    {
     "data": {
      "image/svg+xml": [
       "<?xml version=\"1.0\" encoding=\"UTF-8\" standalone=\"no\"?>\n",
       "<!DOCTYPE svg PUBLIC \"-//W3C//DTD SVG 1.1//EN\"\n",
       " \"http://www.w3.org/Graphics/SVG/1.1/DTD/svg11.dtd\">\n",
       "<!-- Generated by graphviz version 2.40.1 (20161225.0304)\n",
       " -->\n",
       "<!-- Title: %3 Pages: 1 -->\n",
       "<svg width=\"281pt\" height=\"188pt\"\n",
       " viewBox=\"0.00 0.00 281.43 188.00\" xmlns=\"http://www.w3.org/2000/svg\" xmlns:xlink=\"http://www.w3.org/1999/xlink\">\n",
       "<g id=\"graph0\" class=\"graph\" transform=\"scale(1 1) rotate(0) translate(4 184)\">\n",
       "<title>%3</title>\n",
       "<polygon fill=\"#ffffff\" stroke=\"transparent\" points=\"-4,4 -4,-184 277.4325,-184 277.4325,4 -4,4\"/>\n",
       "<!-- imp -->\n",
       "<g id=\"node1\" class=\"node\">\n",
       "<title>imp</title>\n",
       "<ellipse fill=\"#add8e6\" stroke=\"#add8e6\" cx=\"243.4325\" cy=\"-90\" rx=\"27\" ry=\"18\"/>\n",
       "<text text-anchor=\"middle\" x=\"243.4325\" y=\"-85.8\" font-family=\"Times,serif\" font-size=\"14.00\" fill=\"#000000\">imp</text>\n",
       "</g>\n",
       "<!-- rf -->\n",
       "<g id=\"node2\" class=\"node\">\n",
       "<title>rf</title>\n",
       "<ellipse fill=\"#add8e6\" stroke=\"#add8e6\" cx=\"198.4325\" cy=\"-18\" rx=\"27\" ry=\"18\"/>\n",
       "<text text-anchor=\"middle\" x=\"198.4325\" y=\"-13.8\" font-family=\"Times,serif\" font-size=\"14.00\" fill=\"#000000\">rf</text>\n",
       "</g>\n",
       "<!-- imp&#45;&gt;rf -->\n",
       "<g id=\"edge1\" class=\"edge\">\n",
       "<title>imp&#45;&gt;rf</title>\n",
       "<path fill=\"none\" stroke=\"#000000\" d=\"M232.9955,-73.3008C227.509,-64.5224 220.6639,-53.5703 214.5162,-43.7339\"/>\n",
       "<polygon fill=\"#000000\" stroke=\"#000000\" points=\"217.3934,-41.7336 209.1254,-35.1086 211.4574,-45.4436 217.3934,-41.7336\"/>\n",
       "</g>\n",
       "<!-- enc -->\n",
       "<g id=\"node3\" class=\"node\">\n",
       "<title>enc</title>\n",
       "<ellipse fill=\"#add8e6\" stroke=\"#add8e6\" cx=\"246.4325\" cy=\"-162\" rx=\"27\" ry=\"18\"/>\n",
       "<text text-anchor=\"middle\" x=\"246.4325\" y=\"-157.8\" font-family=\"Times,serif\" font-size=\"14.00\" fill=\"#000000\">enc</text>\n",
       "</g>\n",
       "<!-- enc&#45;&gt;imp -->\n",
       "<g id=\"edge2\" class=\"edge\">\n",
       "<title>enc&#45;&gt;imp</title>\n",
       "<path fill=\"none\" stroke=\"#000000\" d=\"M245.6754,-143.8314C245.3546,-136.131 244.9731,-126.9743 244.6165,-118.4166\"/>\n",
       "<polygon fill=\"#000000\" stroke=\"#000000\" points=\"248.1131,-118.2589 244.1997,-108.4133 241.1191,-118.5503 248.1131,-118.2589\"/>\n",
       "</g>\n",
       "<!-- selector -->\n",
       "<g id=\"node4\" class=\"node\">\n",
       "<title>selector</title>\n",
       "<ellipse fill=\"#add8e6\" stroke=\"#add8e6\" cx=\"157.4325\" cy=\"-90\" rx=\"37.7092\" ry=\"18\"/>\n",
       "<text text-anchor=\"middle\" x=\"157.4325\" y=\"-85.8\" font-family=\"Times,serif\" font-size=\"14.00\" fill=\"#000000\">selector</text>\n",
       "</g>\n",
       "<!-- selector&#45;&gt;rf -->\n",
       "<g id=\"edge3\" class=\"edge\">\n",
       "<title>selector&#45;&gt;rf</title>\n",
       "<path fill=\"none\" stroke=\"#000000\" d=\"M167.3574,-72.5708C172.2424,-63.9922 178.2307,-53.4762 183.6422,-43.9732\"/>\n",
       "<polygon fill=\"#000000\" stroke=\"#000000\" points=\"186.6919,-45.6905 188.5989,-35.2687 180.609,-42.2266 186.6919,-45.6905\"/>\n",
       "</g>\n",
       "<!-- vect_word -->\n",
       "<g id=\"node5\" class=\"node\">\n",
       "<title>vect_word</title>\n",
       "<ellipse fill=\"#add8e6\" stroke=\"#add8e6\" cx=\"47.4325\" cy=\"-162\" rx=\"47.365\" ry=\"18\"/>\n",
       "<text text-anchor=\"middle\" x=\"47.4325\" y=\"-157.8\" font-family=\"Times,serif\" font-size=\"14.00\" fill=\"#000000\">vect_word</text>\n",
       "</g>\n",
       "<!-- vect_word&#45;&gt;selector -->\n",
       "<g id=\"edge4\" class=\"edge\">\n",
       "<title>vect_word&#45;&gt;selector</title>\n",
       "<path fill=\"none\" stroke=\"#000000\" d=\"M71.3008,-146.3771C87.4432,-135.8112 108.9203,-121.7534 126.3897,-110.3189\"/>\n",
       "<polygon fill=\"#000000\" stroke=\"#000000\" points=\"128.66,-113.016 135.1102,-104.6109 124.8264,-107.1591 128.66,-113.016\"/>\n",
       "</g>\n",
       "<!-- vect_char -->\n",
       "<g id=\"node6\" class=\"node\">\n",
       "<title>vect_char</title>\n",
       "<ellipse fill=\"#add8e6\" stroke=\"#add8e6\" cx=\"157.4325\" cy=\"-162\" rx=\"44.4491\" ry=\"18\"/>\n",
       "<text text-anchor=\"middle\" x=\"157.4325\" y=\"-157.8\" font-family=\"Times,serif\" font-size=\"14.00\" fill=\"#000000\">vect_char</text>\n",
       "</g>\n",
       "<!-- vect_char&#45;&gt;selector -->\n",
       "<g id=\"edge5\" class=\"edge\">\n",
       "<title>vect_char&#45;&gt;selector</title>\n",
       "<path fill=\"none\" stroke=\"#000000\" d=\"M157.4325,-143.8314C157.4325,-136.131 157.4325,-126.9743 157.4325,-118.4166\"/>\n",
       "<polygon fill=\"#000000\" stroke=\"#000000\" points=\"160.9326,-118.4132 157.4325,-108.4133 153.9326,-118.4133 160.9326,-118.4132\"/>\n",
       "</g>\n",
       "</g>\n",
       "</svg>\n"
      ],
      "text/plain": [
       "<graphviz.dot.Digraph at 0x13139ab70>"
      ]
     },
     "execution_count": 28,
     "metadata": {},
     "output_type": "execute_result"
    }
   ],
   "source": [
    "gpipeline9 = GraphPipeline(models = {\"enc\":NumericalEncoder(columns_to_use=non_text_cols),\n",
    "                        \"imp\":NumImputer(),\n",
    "                        \"vect_word\":CountVectorizerWrapper(analyzer=\"word\",columns_to_use=text_cols),\n",
    "                        \"vect_char\":CountVectorizerWrapper(analyzer=\"char\",ngram_range=(1,4),columns_to_use=text_cols),\n",
    "                        \"selector\":FeaturesSelectorClassifier(n_components=10),\n",
    "                        \"rf\":RandomForestClassifier(n_estimators=100)\n",
    "                       },\n",
    "              edges = [(\"enc\",\"imp\",\"rf\"),(\"vect_word\",\"selector\",\"rf\"),(\"vect_char\",\"selector\",\"rf\")])\n",
    "gpipeline9.fit(Xtrain,y_train)\n",
    "gpipeline9.graphviz"
   ]
  },
  {
   "cell_type": "markdown",
   "metadata": {},
   "source": [
    "### Retrieve feature importance\n",
    "Let's use that complicated example to show how to retrieve the feature importance"
   ]
  },
  {
   "cell_type": "code",
   "execution_count": 29,
   "metadata": {},
   "outputs": [
    {
     "data": {
      "text/plain": [
       "boat____null__             3.861984e-01\n",
       "fare                       4.452563e-02\n",
       "sex__female                4.280714e-02\n",
       "name__BAG__mr              4.173047e-02\n",
       "sex__male                  4.105027e-02\n",
       "age                        3.133755e-02\n",
       "name__BAG__s.              2.939194e-02\n",
       "name__BAG__mr.             2.849791e-02\n",
       "boat__15                   2.725100e-02\n",
       "boat____default__          2.549449e-02\n",
       "name__BAG__mr.             2.442661e-02\n",
       "pclass                     2.059064e-02\n",
       "name__BAG__ mr.            2.057098e-02\n",
       "name__BAG__s.              1.979467e-02\n",
       "boat__13                   1.895729e-02\n",
       "sibsp                      1.865041e-02\n",
       "name__BAG__r.              1.315256e-02\n",
       "boat__7                    1.107319e-02\n",
       "boat__C                    1.088121e-02\n",
       "name__BAG__mrs.            1.071603e-02\n",
       "home_dest____null__        1.071173e-02\n",
       "cabin____default__         1.012639e-02\n",
       "cabin____null__            9.442504e-03\n",
       "name__BAG__, mr            9.413802e-03\n",
       "parch                      9.046520e-03\n",
       "embarked__C                7.350978e-03\n",
       "body_isnull                7.311124e-03\n",
       "home_dest____default__     7.293345e-03\n",
       "boat__5                    6.730063e-03\n",
       "boat__3                    6.665373e-03\n",
       "name__BAG__rs.             6.413707e-03\n",
       "boat__16                   6.149060e-03\n",
       "embarked__S                6.080117e-03\n",
       "boat__14                   4.899812e-03\n",
       "boat__9                    4.426480e-03\n",
       "age_isnull                 3.764716e-03\n",
       "embarked__Q                2.830036e-03\n",
       "body                       2.624545e-03\n",
       "boat__10                   2.552338e-03\n",
       "boat__12                   2.106629e-03\n",
       "home_dest__New York, NY    1.890061e-03\n",
       "boat__11                   1.628693e-03\n",
       "boat__4                    1.529756e-03\n",
       "home_dest__London          8.925387e-04\n",
       "boat__6                    6.166352e-04\n",
       "boat__8                    4.043007e-04\n",
       "fare_isnull                3.192136e-07\n",
       "dtype: float64"
      ]
     },
     "execution_count": 29,
     "metadata": {},
     "output_type": "execute_result"
    }
   ],
   "source": [
    "df_imp = pd.Series(gpipeline9.models[\"rf\"].feature_importances_,\n",
    "                  index = gpipeline9.get_input_features_at_node(\"rf\"))\n",
    "df_imp.sort_values(ascending=False,inplace=True)\n",
    "df_imp"
   ]
  },
  {
   "cell_type": "code",
   "execution_count": 30,
   "metadata": {},
   "outputs": [
    {
     "name": "stdout",
     "output_type": "stream",
     "text": [
      "cv 0 started\n",
      "\n",
      "cv 1 started\n",
      "\n",
      "cv 2 started\n",
      "\n",
      "cv 3 started\n",
      "\n",
      "cv 4 started\n",
      "\n",
      "cv 5 started\n",
      "\n",
      "cv 6 started\n",
      "\n",
      "cv 7 started\n",
      "\n",
      "cv 8 started\n",
      "\n",
      "cv 9 started\n",
      "\n"
     ]
    },
    {
     "data": {
      "text/plain": [
       "test_roc_auc         0.992407\n",
       "test_accuracy        0.969478\n",
       "test_neg_log_loss   -0.154415\n",
       "dtype: float64"
      ]
     },
     "execution_count": 30,
     "metadata": {},
     "output_type": "execute_result"
    }
   ],
   "source": [
    "cv_result = cross_validation(gpipeline9,Xtrain,y_train,cv = 10,scoring=[\"roc_auc\",\"accuracy\",\"neg_log_loss\"])\n",
    "cv_result.loc[:,(\"test_roc_auc\",\"test_accuracy\",\"test_neg_log_loss\")].mean()"
   ]
  },
  {
   "cell_type": "code",
   "execution_count": 31,
   "metadata": {},
   "outputs": [
    {
     "data": {
      "image/svg+xml": [
       "<?xml version=\"1.0\" encoding=\"UTF-8\" standalone=\"no\"?>\n",
       "<!DOCTYPE svg PUBLIC \"-//W3C//DTD SVG 1.1//EN\"\n",
       " \"http://www.w3.org/Graphics/SVG/1.1/DTD/svg11.dtd\">\n",
       "<!-- Generated by graphviz version 2.40.1 (20161225.0304)\n",
       " -->\n",
       "<!-- Title: %3 Pages: 1 -->\n",
       "<svg width=\"281pt\" height=\"188pt\"\n",
       " viewBox=\"0.00 0.00 281.43 188.00\" xmlns=\"http://www.w3.org/2000/svg\" xmlns:xlink=\"http://www.w3.org/1999/xlink\">\n",
       "<g id=\"graph0\" class=\"graph\" transform=\"scale(1 1) rotate(0) translate(4 184)\">\n",
       "<title>%3</title>\n",
       "<polygon fill=\"#ffffff\" stroke=\"transparent\" points=\"-4,4 -4,-184 277.4325,-184 277.4325,4 -4,4\"/>\n",
       "<!-- imp -->\n",
       "<g id=\"node1\" class=\"node\">\n",
       "<title>imp</title>\n",
       "<ellipse fill=\"#add8e6\" stroke=\"#add8e6\" cx=\"36\" cy=\"-90\" rx=\"27\" ry=\"18\"/>\n",
       "<text text-anchor=\"middle\" x=\"36\" y=\"-85.8\" font-family=\"Times,serif\" font-size=\"14.00\" fill=\"#000000\">imp</text>\n",
       "</g>\n",
       "<!-- rf -->\n",
       "<g id=\"node2\" class=\"node\">\n",
       "<title>rf</title>\n",
       "<ellipse fill=\"#add8e6\" stroke=\"#add8e6\" cx=\"116\" cy=\"-18\" rx=\"27\" ry=\"18\"/>\n",
       "<text text-anchor=\"middle\" x=\"116\" y=\"-13.8\" font-family=\"Times,serif\" font-size=\"14.00\" fill=\"#000000\">rf</text>\n",
       "</g>\n",
       "<!-- imp&#45;&gt;rf -->\n",
       "<g id=\"edge1\" class=\"edge\">\n",
       "<title>imp&#45;&gt;rf</title>\n",
       "<path fill=\"none\" stroke=\"#000000\" d=\"M52.1892,-75.4297C63.6833,-65.0851 79.3015,-51.0286 92.2093,-39.4116\"/>\n",
       "<polygon fill=\"#000000\" stroke=\"#000000\" points=\"94.7433,-41.8398 99.8349,-32.5486 90.0605,-36.6367 94.7433,-41.8398\"/>\n",
       "</g>\n",
       "<!-- enc -->\n",
       "<g id=\"node3\" class=\"node\">\n",
       "<title>enc</title>\n",
       "<ellipse fill=\"#add8e6\" stroke=\"#add8e6\" cx=\"27\" cy=\"-162\" rx=\"27\" ry=\"18\"/>\n",
       "<text text-anchor=\"middle\" x=\"27\" y=\"-157.8\" font-family=\"Times,serif\" font-size=\"14.00\" fill=\"#000000\">enc</text>\n",
       "</g>\n",
       "<!-- enc&#45;&gt;imp -->\n",
       "<g id=\"edge2\" class=\"edge\">\n",
       "<title>enc&#45;&gt;imp</title>\n",
       "<path fill=\"none\" stroke=\"#000000\" d=\"M29.2711,-143.8314C30.2336,-136.131 31.3782,-126.9743 32.4479,-118.4166\"/>\n",
       "<polygon fill=\"#000000\" stroke=\"#000000\" points=\"35.9309,-118.7702 33.6983,-108.4133 28.9849,-117.9019 35.9309,-118.7702\"/>\n",
       "</g>\n",
       "<!-- selector -->\n",
       "<g id=\"node4\" class=\"node\">\n",
       "<title>selector</title>\n",
       "<ellipse fill=\"#add8e6\" stroke=\"#add8e6\" cx=\"199\" cy=\"-90\" rx=\"37.7092\" ry=\"18\"/>\n",
       "<text text-anchor=\"middle\" x=\"199\" y=\"-85.8\" font-family=\"Times,serif\" font-size=\"14.00\" fill=\"#000000\">selector</text>\n",
       "</g>\n",
       "<!-- selector&#45;&gt;rf -->\n",
       "<g id=\"edge3\" class=\"edge\">\n",
       "<title>selector&#45;&gt;rf</title>\n",
       "<path fill=\"none\" stroke=\"#000000\" d=\"M180.5796,-74.0209C168.7145,-63.7283 153.1589,-50.2342 140.2879,-39.069\"/>\n",
       "<polygon fill=\"#000000\" stroke=\"#000000\" points=\"142.5251,-36.3764 132.6777,-32.4674 137.9382,-41.6641 142.5251,-36.3764\"/>\n",
       "</g>\n",
       "<!-- vect_word -->\n",
       "<g id=\"node5\" class=\"node\">\n",
       "<title>vect_word</title>\n",
       "<ellipse fill=\"#add8e6\" stroke=\"#add8e6\" cx=\"226\" cy=\"-162\" rx=\"47.365\" ry=\"18\"/>\n",
       "<text text-anchor=\"middle\" x=\"226\" y=\"-157.8\" font-family=\"Times,serif\" font-size=\"14.00\" fill=\"#000000\">vect_word</text>\n",
       "</g>\n",
       "<!-- vect_word&#45;&gt;selector -->\n",
       "<g id=\"edge4\" class=\"edge\">\n",
       "<title>vect_word&#45;&gt;selector</title>\n",
       "<path fill=\"none\" stroke=\"#000000\" d=\"M219.1868,-143.8314C216.1902,-135.8406 212.6057,-126.2819 209.2943,-117.4514\"/>\n",
       "<polygon fill=\"#000000\" stroke=\"#000000\" points=\"212.506,-116.0478 205.7175,-107.9134 205.9517,-118.5057 212.506,-116.0478\"/>\n",
       "</g>\n",
       "<!-- svd -->\n",
       "<g id=\"node6\" class=\"node\">\n",
       "<title>svd</title>\n",
       "<ellipse fill=\"#add8e6\" stroke=\"#add8e6\" cx=\"116\" cy=\"-90\" rx=\"27\" ry=\"18\"/>\n",
       "<text text-anchor=\"middle\" x=\"116\" y=\"-85.8\" font-family=\"Times,serif\" font-size=\"14.00\" fill=\"#000000\">svd</text>\n",
       "</g>\n",
       "<!-- vect_word&#45;&gt;svd -->\n",
       "<g id=\"edge5\" class=\"edge\">\n",
       "<title>vect_word&#45;&gt;svd</title>\n",
       "<path fill=\"none\" stroke=\"#000000\" d=\"M202.1316,-146.3771C185.1283,-135.2476 162.2061,-120.244 144.2833,-108.5127\"/>\n",
       "<polygon fill=\"#000000\" stroke=\"#000000\" points=\"145.7083,-105.2623 135.4244,-102.7142 141.8746,-111.1193 145.7083,-105.2623\"/>\n",
       "</g>\n",
       "<!-- svd&#45;&gt;rf -->\n",
       "<g id=\"edge8\" class=\"edge\">\n",
       "<title>svd&#45;&gt;rf</title>\n",
       "<path fill=\"none\" stroke=\"#000000\" d=\"M116,-71.8314C116,-64.131 116,-54.9743 116,-46.4166\"/>\n",
       "<polygon fill=\"#000000\" stroke=\"#000000\" points=\"119.5001,-46.4132 116,-36.4133 112.5001,-46.4133 119.5001,-46.4132\"/>\n",
       "</g>\n",
       "<!-- vect_char -->\n",
       "<g id=\"node7\" class=\"node\">\n",
       "<title>vect_char</title>\n",
       "<ellipse fill=\"#add8e6\" stroke=\"#add8e6\" cx=\"116\" cy=\"-162\" rx=\"44.4491\" ry=\"18\"/>\n",
       "<text text-anchor=\"middle\" x=\"116\" y=\"-157.8\" font-family=\"Times,serif\" font-size=\"14.00\" fill=\"#000000\">vect_char</text>\n",
       "</g>\n",
       "<!-- vect_char&#45;&gt;selector -->\n",
       "<g id=\"edge6\" class=\"edge\">\n",
       "<title>vect_char&#45;&gt;selector</title>\n",
       "<path fill=\"none\" stroke=\"#000000\" d=\"M134.834,-145.6621C146.1336,-135.86 160.6672,-123.2526 173.0444,-112.5157\"/>\n",
       "<polygon fill=\"#000000\" stroke=\"#000000\" points=\"175.5505,-114.9751 180.811,-105.7784 170.9636,-109.6874 175.5505,-114.9751\"/>\n",
       "</g>\n",
       "<!-- vect_char&#45;&gt;svd -->\n",
       "<g id=\"edge7\" class=\"edge\">\n",
       "<title>vect_char&#45;&gt;svd</title>\n",
       "<path fill=\"none\" stroke=\"#000000\" d=\"M116,-143.8314C116,-136.131 116,-126.9743 116,-118.4166\"/>\n",
       "<polygon fill=\"#000000\" stroke=\"#000000\" points=\"119.5001,-118.4132 116,-108.4133 112.5001,-118.4133 119.5001,-118.4132\"/>\n",
       "</g>\n",
       "</g>\n",
       "</svg>\n"
      ],
      "text/plain": [
       "<graphviz.dot.Digraph at 0x1315f31d0>"
      ]
     },
     "execution_count": 31,
     "metadata": {},
     "output_type": "execute_result"
    }
   ],
   "source": [
    "gpipeline10 = GraphPipeline(models = {\"enc\":NumericalEncoder(columns_to_use=non_text_cols),\n",
    "                        \"imp\":NumImputer(),\n",
    "                        \"vect_word\":CountVectorizerWrapper(analyzer=\"word\",columns_to_use=text_cols),\n",
    "                        \"vect_char\":CountVectorizerWrapper(analyzer=\"char\",ngram_range=(1,4),columns_to_use=text_cols),\n",
    "                        \"svd\":TruncatedSVDWrapper(n_components=10),\n",
    "                        \"selector\":FeaturesSelectorClassifier(n_components=10),\n",
    "                        \"rf\":RandomForestClassifier(n_estimators=100)\n",
    "                       },\n",
    "              edges = [(\"enc\",\"imp\",\"rf\"),\n",
    "                       (\"vect_word\",\"selector\",\"rf\"),\n",
    "                       (\"vect_char\",\"selector\",\"rf\"),\n",
    "                       (\"vect_word\",\"svd\",\"rf\"),\n",
    "                       (\"vect_char\",\"svd\",\"rf\")])\n",
    "\n",
    "gpipeline10.fit(Xtrain,y_train)\n",
    "gpipeline10.graphviz"
   ]
  },
  {
   "cell_type": "markdown",
   "metadata": {},
   "source": [
    "In this model here is what is done :\n",
    "* categorical columns are encoded ('enc')\n",
    "* missing values are filled  ('imp')\n",
    "* bag of word and bag of char are created, for the two text features\n",
    "* an SVD is done on those \n",
    "* a selector is called to select most important bag of word/char features\n",
    "* everything is given to a RandomForest"
   ]
  },
  {
   "cell_type": "code",
   "execution_count": 32,
   "metadata": {},
   "outputs": [
    {
     "name": "stdout",
     "output_type": "stream",
     "text": [
      "cv 0 started\n",
      "\n",
      "cv 1 started\n",
      "\n",
      "cv 2 started\n",
      "\n",
      "cv 3 started\n",
      "\n",
      "cv 4 started\n",
      "\n",
      "cv 5 started\n",
      "\n",
      "cv 6 started\n",
      "\n",
      "cv 7 started\n",
      "\n",
      "cv 8 started\n",
      "\n",
      "cv 9 started\n",
      "\n"
     ]
    },
    {
     "data": {
      "text/plain": [
       "test_roc_auc         0.993550\n",
       "test_accuracy        0.969487\n",
       "test_neg_log_loss   -0.169416\n",
       "dtype: float64"
      ]
     },
     "execution_count": 32,
     "metadata": {},
     "output_type": "execute_result"
    }
   ],
   "source": [
    "cv_result = cross_validation(gpipeline10,Xtrain,y_train,cv = 10,scoring=[\"roc_auc\",\"accuracy\",\"neg_log_loss\"])\n",
    "cv_result.loc[:,(\"test_roc_auc\",\"test_accuracy\",\"test_neg_log_loss\")].mean()"
   ]
  },
  {
   "cell_type": "markdown",
   "metadata": {},
   "source": [
    "As we saw the GraphPipeline allow flexibility in the creation of models and several choices can be easily tested.\n",
    "\n",
    "<b>Again, it is not the best possible choices for that database, the example are here to illustrate the capabilities.</b>\n",
    "\n",
    "Better score could be obtained by adjusting hyper-parameters and/or models/transformers and creating some new features.\n"
   ]
  },
  {
   "cell_type": "code",
   "execution_count": null,
   "metadata": {},
   "outputs": [],
   "source": []
  }
 ],
 "metadata": {
  "kernelspec": {
   "display_name": "aikit",
   "language": "python",
   "name": "aikit"
  },
  "language_info": {
   "codemirror_mode": {
    "name": "ipython",
    "version": 3
   },
   "file_extension": ".py",
   "mimetype": "text/x-python",
   "name": "python",
   "nbconvert_exporter": "python",
   "pygments_lexer": "ipython3",
   "version": "3.6.8"
  }
 },
 "nbformat": 4,
 "nbformat_minor": 2
}
